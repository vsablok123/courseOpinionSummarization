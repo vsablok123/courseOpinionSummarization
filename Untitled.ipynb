{
 "cells": [
  {
   "cell_type": "code",
   "execution_count": 3,
   "metadata": {},
   "outputs": [],
   "source": [
    "import numpy as np\n",
    "import pandas as pd\n",
    "import matplotlib.pyplot as plt\n",
    "import seaborn as sns\n",
    "import re\n",
    "import nltk\n",
    "from nltk.tokenize import word_tokenize"
   ]
  },
  {
   "cell_type": "code",
   "execution_count": 2,
   "metadata": {},
   "outputs": [],
   "source": [
    "courses = pd.read_csv(\"Coursera_courses.csv\")\n",
    "coursedetails = pd.read_csv(\"coursera-course-detail-data.csv\")"
   ]
  },
  {
   "cell_type": "code",
   "execution_count": 47,
   "metadata": {},
   "outputs": [
    {
     "data": {
      "text/html": [
       "<div>\n",
       "<style scoped>\n",
       "    .dataframe tbody tr th:only-of-type {\n",
       "        vertical-align: middle;\n",
       "    }\n",
       "\n",
       "    .dataframe tbody tr th {\n",
       "        vertical-align: top;\n",
       "    }\n",
       "\n",
       "    .dataframe thead th {\n",
       "        text-align: right;\n",
       "    }\n",
       "</style>\n",
       "<table border=\"1\" class=\"dataframe\">\n",
       "  <thead>\n",
       "    <tr style=\"text-align: right;\">\n",
       "      <th></th>\n",
       "      <th>name</th>\n",
       "      <th>institution</th>\n",
       "      <th>course_url</th>\n",
       "      <th>course_id</th>\n",
       "    </tr>\n",
       "  </thead>\n",
       "  <tbody>\n",
       "    <tr>\n",
       "      <td>0</td>\n",
       "      <td>Machine Learning</td>\n",
       "      <td>Stanford University</td>\n",
       "      <td>b'https://www.coursera.org/learn/machine-learn...</td>\n",
       "      <td>machine-learning</td>\n",
       "    </tr>\n",
       "    <tr>\n",
       "      <td>1</td>\n",
       "      <td>Indigenous Canada</td>\n",
       "      <td>University of Alberta</td>\n",
       "      <td>b'https://www.coursera.org/learn/indigenous-ca...</td>\n",
       "      <td>indigenous-canada</td>\n",
       "    </tr>\n",
       "    <tr>\n",
       "      <td>2</td>\n",
       "      <td>The Science of Well-Being</td>\n",
       "      <td>Yale University</td>\n",
       "      <td>b'https://www.coursera.org/learn/the-science-o...</td>\n",
       "      <td>the-science-of-well-being</td>\n",
       "    </tr>\n",
       "    <tr>\n",
       "      <td>3</td>\n",
       "      <td>Technical Support Fundamentals</td>\n",
       "      <td>Google</td>\n",
       "      <td>b'https://www.coursera.org/learn/technical-sup...</td>\n",
       "      <td>technical-support-fundamentals</td>\n",
       "    </tr>\n",
       "    <tr>\n",
       "      <td>4</td>\n",
       "      <td>Become a CBRS Certified Professional Installer...</td>\n",
       "      <td>Google - Spectrum Sharing</td>\n",
       "      <td>b'https://www.coursera.org/learn/google-cbrs-c...</td>\n",
       "      <td>google-cbrs-cpi-training</td>\n",
       "    </tr>\n",
       "  </tbody>\n",
       "</table>\n",
       "</div>"
      ],
      "text/plain": [
       "                                                name  \\\n",
       "0                                   Machine Learning   \n",
       "1                                  Indigenous Canada   \n",
       "2                          The Science of Well-Being   \n",
       "3                     Technical Support Fundamentals   \n",
       "4  Become a CBRS Certified Professional Installer...   \n",
       "\n",
       "                 institution  \\\n",
       "0        Stanford University   \n",
       "1      University of Alberta   \n",
       "2            Yale University   \n",
       "3                     Google   \n",
       "4  Google - Spectrum Sharing   \n",
       "\n",
       "                                          course_url  \\\n",
       "0  b'https://www.coursera.org/learn/machine-learn...   \n",
       "1  b'https://www.coursera.org/learn/indigenous-ca...   \n",
       "2  b'https://www.coursera.org/learn/the-science-o...   \n",
       "3  b'https://www.coursera.org/learn/technical-sup...   \n",
       "4  b'https://www.coursera.org/learn/google-cbrs-c...   \n",
       "\n",
       "                        course_id  \n",
       "0                machine-learning  \n",
       "1               indigenous-canada  \n",
       "2       the-science-of-well-being  \n",
       "3  technical-support-fundamentals  \n",
       "4        google-cbrs-cpi-training  "
      ]
     },
     "execution_count": 47,
     "metadata": {},
     "output_type": "execute_result"
    }
   ],
   "source": [
    "courses.head()"
   ]
  },
  {
   "cell_type": "code",
   "execution_count": 3,
   "metadata": {},
   "outputs": [],
   "source": [
    "coursedetails['course_id'] = coursedetails['Url'].apply(lambda z: z.split('/')[-1]) "
   ]
  },
  {
   "cell_type": "code",
   "execution_count": null,
   "metadata": {},
   "outputs": [],
   "source": []
  },
  {
   "cell_type": "code",
   "execution_count": 5,
   "metadata": {},
   "outputs": [
    {
     "data": {
      "text/plain": [
       "2842    https://coursera.org/learn/machine-learning\n",
       "Name: Url, dtype: object"
      ]
     },
     "execution_count": 5,
     "metadata": {},
     "output_type": "execute_result"
    }
   ],
   "source": [
    "coursedetails[coursedetails['course_id'] == 'machine-learning']['Url']"
   ]
  },
  {
   "cell_type": "code",
   "execution_count": 4,
   "metadata": {},
   "outputs": [],
   "source": [
    "courses = courses.merge(coursedetails, how = \"left\", on='course_id')"
   ]
  },
  {
   "cell_type": "code",
   "execution_count": 59,
   "metadata": {},
   "outputs": [
    {
     "name": "stdout",
     "output_type": "stream",
     "text": [
      "<class 'pandas.core.frame.DataFrame'>\n",
      "Int64Index: 623 entries, 0 to 622\n",
      "Data columns (total 10 columns):\n",
      "name           623 non-null object\n",
      "institution    623 non-null object\n",
      "course_url     623 non-null object\n",
      "course_id      623 non-null object\n",
      "Unnamed: 0     573 non-null float64\n",
      "Name           573 non-null object\n",
      "Url            573 non-null object\n",
      "Rating         573 non-null object\n",
      "Difficulty     573 non-null object\n",
      "Tags           573 non-null object\n",
      "dtypes: float64(1), object(9)\n",
      "memory usage: 53.5+ KB\n"
     ]
    }
   ],
   "source": [
    "courses.info(0)"
   ]
  },
  {
   "cell_type": "code",
   "execution_count": 5,
   "metadata": {},
   "outputs": [],
   "source": [
    "courses.drop(['Unnamed: 0','Name','Url'], inplace=True, axis = 1)"
   ]
  },
  {
   "cell_type": "code",
   "execution_count": 10,
   "metadata": {},
   "outputs": [
    {
     "data": {
      "text/html": [
       "<div>\n",
       "<style scoped>\n",
       "    .dataframe tbody tr th:only-of-type {\n",
       "        vertical-align: middle;\n",
       "    }\n",
       "\n",
       "    .dataframe tbody tr th {\n",
       "        vertical-align: top;\n",
       "    }\n",
       "\n",
       "    .dataframe thead th {\n",
       "        text-align: right;\n",
       "    }\n",
       "</style>\n",
       "<table border=\"1\" class=\"dataframe\">\n",
       "  <thead>\n",
       "    <tr style=\"text-align: right;\">\n",
       "      <th></th>\n",
       "      <th>name</th>\n",
       "      <th>institution</th>\n",
       "      <th>course_url</th>\n",
       "      <th>course_id</th>\n",
       "      <th>Rating</th>\n",
       "      <th>Difficulty</th>\n",
       "      <th>Tags</th>\n",
       "    </tr>\n",
       "  </thead>\n",
       "  <tbody>\n",
       "    <tr>\n",
       "      <td>0</td>\n",
       "      <td>Machine Learning</td>\n",
       "      <td>Stanford University</td>\n",
       "      <td>https://www.coursera.org/learn/machine-learning</td>\n",
       "      <td>machine-learning</td>\n",
       "      <td>4.9</td>\n",
       "      <td>None</td>\n",
       "      <td>['Data Science', 'Machine Learning']</td>\n",
       "    </tr>\n",
       "    <tr>\n",
       "      <td>1</td>\n",
       "      <td>Indigenous Canada</td>\n",
       "      <td>University of Alberta</td>\n",
       "      <td>https://www.coursera.org/learn/indigenous-canada</td>\n",
       "      <td>indigenous-canada</td>\n",
       "      <td>4.8</td>\n",
       "      <td>None</td>\n",
       "      <td>['Arts and Humanities', 'History']</td>\n",
       "    </tr>\n",
       "    <tr>\n",
       "      <td>2</td>\n",
       "      <td>The Science of Well-Being</td>\n",
       "      <td>Yale University</td>\n",
       "      <td>https://www.coursera.org/learn/the-science-of-...</td>\n",
       "      <td>the-science-of-well-being</td>\n",
       "      <td>4.9</td>\n",
       "      <td>None</td>\n",
       "      <td>['Personal Development', 'Personal Development']</td>\n",
       "    </tr>\n",
       "    <tr>\n",
       "      <td>3</td>\n",
       "      <td>Technical Support Fundamentals</td>\n",
       "      <td>Google</td>\n",
       "      <td>https://www.coursera.org/learn/technical-suppo...</td>\n",
       "      <td>technical-support-fundamentals</td>\n",
       "      <td>4.8</td>\n",
       "      <td>Beginner Level</td>\n",
       "      <td>['Information Technology', 'Support and Operat...</td>\n",
       "    </tr>\n",
       "    <tr>\n",
       "      <td>4</td>\n",
       "      <td>Become a CBRS Certified Professional Installer...</td>\n",
       "      <td>Google - Spectrum Sharing</td>\n",
       "      <td>https://www.coursera.org/learn/google-cbrs-cpi...</td>\n",
       "      <td>google-cbrs-cpi-training</td>\n",
       "      <td>4.9</td>\n",
       "      <td>None</td>\n",
       "      <td>['Information Technology', 'Networking']</td>\n",
       "    </tr>\n",
       "  </tbody>\n",
       "</table>\n",
       "</div>"
      ],
      "text/plain": [
       "                                                name  \\\n",
       "0                                   Machine Learning   \n",
       "1                                  Indigenous Canada   \n",
       "2                          The Science of Well-Being   \n",
       "3                     Technical Support Fundamentals   \n",
       "4  Become a CBRS Certified Professional Installer...   \n",
       "\n",
       "                 institution  \\\n",
       "0        Stanford University   \n",
       "1      University of Alberta   \n",
       "2            Yale University   \n",
       "3                     Google   \n",
       "4  Google - Spectrum Sharing   \n",
       "\n",
       "                                          course_url  \\\n",
       "0    https://www.coursera.org/learn/machine-learning   \n",
       "1   https://www.coursera.org/learn/indigenous-canada   \n",
       "2  https://www.coursera.org/learn/the-science-of-...   \n",
       "3  https://www.coursera.org/learn/technical-suppo...   \n",
       "4  https://www.coursera.org/learn/google-cbrs-cpi...   \n",
       "\n",
       "                        course_id Rating      Difficulty  \\\n",
       "0                machine-learning    4.9            None   \n",
       "1               indigenous-canada    4.8            None   \n",
       "2       the-science-of-well-being    4.9            None   \n",
       "3  technical-support-fundamentals    4.8  Beginner Level   \n",
       "4        google-cbrs-cpi-training    4.9            None   \n",
       "\n",
       "                                                Tags  \n",
       "0               ['Data Science', 'Machine Learning']  \n",
       "1                 ['Arts and Humanities', 'History']  \n",
       "2   ['Personal Development', 'Personal Development']  \n",
       "3  ['Information Technology', 'Support and Operat...  \n",
       "4           ['Information Technology', 'Networking']  "
      ]
     },
     "execution_count": 10,
     "metadata": {},
     "output_type": "execute_result"
    }
   ],
   "source": [
    "courses.head()"
   ]
  },
  {
   "cell_type": "code",
   "execution_count": 12,
   "metadata": {},
   "outputs": [
    {
     "data": {
      "text/html": [
       "<div>\n",
       "<style scoped>\n",
       "    .dataframe tbody tr th:only-of-type {\n",
       "        vertical-align: middle;\n",
       "    }\n",
       "\n",
       "    .dataframe tbody tr th {\n",
       "        vertical-align: top;\n",
       "    }\n",
       "\n",
       "    .dataframe thead th {\n",
       "        text-align: right;\n",
       "    }\n",
       "</style>\n",
       "<table border=\"1\" class=\"dataframe\">\n",
       "  <thead>\n",
       "    <tr style=\"text-align: right;\">\n",
       "      <th></th>\n",
       "      <th>name</th>\n",
       "      <th>institution</th>\n",
       "      <th>course_url</th>\n",
       "      <th>course_id</th>\n",
       "      <th>Rating</th>\n",
       "      <th>Difficulty</th>\n",
       "      <th>Tags</th>\n",
       "    </tr>\n",
       "  </thead>\n",
       "  <tbody>\n",
       "  </tbody>\n",
       "</table>\n",
       "</div>"
      ],
      "text/plain": [
       "Empty DataFrame\n",
       "Columns: [name, institution, course_url, course_id, Rating, Difficulty, Tags]\n",
       "Index: []"
      ]
     },
     "execution_count": 12,
     "metadata": {},
     "output_type": "execute_result"
    }
   ],
   "source": [
    "courses[courses['Tags'].apply(lambda x: str(x).count(',') > 1)]"
   ]
  },
  {
   "cell_type": "code",
   "execution_count": 63,
   "metadata": {},
   "outputs": [
    {
     "data": {
      "text/plain": [
       "<matplotlib.axes._subplots.AxesSubplot at 0x180f59b79c8>"
      ]
     },
     "execution_count": 63,
     "metadata": {},
     "output_type": "execute_result"
    },
    {
     "data": {
      "image/png": "[encoded data removed]",
      "text/plain": [
       "<Figure size 432x288 with 2 Axes>"
      ]
     },
     "metadata": {
      "needs_background": "light"
     },
     "output_type": "display_data"
    }
   ],
   "source": [
    "sns.heatmap(courses.isna())"
   ]
  },
  {
   "cell_type": "code",
   "execution_count": 16,
   "metadata": {},
   "outputs": [
    {
     "data": {
      "text/plain": [
       "<matplotlib.axes._subplots.AxesSubplot at 0x21f21552188>"
      ]
     },
     "execution_count": 16,
     "metadata": {},
     "output_type": "execute_result"
    },
    {
     "data": {
      "image/png": "[encoded data removed]",
      "text/plain": [
       "<Figure size 432x288 with 2 Axes>"
      ]
     },
     "metadata": {
      "needs_background": "light"
     },
     "output_type": "display_data"
    }
   ],
   "source": [
    "sns.heatmap(coursereviews.isna())"
   ]
  },
  {
   "cell_type": "code",
   "execution_count": 4,
   "metadata": {},
   "outputs": [],
   "source": [
    "coursereviews = pd.read_csv(\"Coursera_reviews.csv\")"
   ]
  },
  {
   "cell_type": "code",
   "execution_count": 65,
   "metadata": {},
   "outputs": [
    {
     "data": {
      "text/html": [
       "<div>\n",
       "<style scoped>\n",
       "    .dataframe tbody tr th:only-of-type {\n",
       "        vertical-align: middle;\n",
       "    }\n",
       "\n",
       "    .dataframe tbody tr th {\n",
       "        vertical-align: top;\n",
       "    }\n",
       "\n",
       "    .dataframe thead th {\n",
       "        text-align: right;\n",
       "    }\n",
       "</style>\n",
       "<table border=\"1\" class=\"dataframe\">\n",
       "  <thead>\n",
       "    <tr style=\"text-align: right;\">\n",
       "      <th></th>\n",
       "      <th>reviews</th>\n",
       "      <th>reviewers</th>\n",
       "      <th>date_reviews</th>\n",
       "      <th>rating</th>\n",
       "      <th>course_id</th>\n",
       "    </tr>\n",
       "  </thead>\n",
       "  <tbody>\n",
       "    <tr>\n",
       "      <td>0</td>\n",
       "      <td>Pretty dry, but I was able to pass with just t...</td>\n",
       "      <td>By Robert S</td>\n",
       "      <td>Feb 12, 2020</td>\n",
       "      <td>4</td>\n",
       "      <td>google-cbrs-cpi-training</td>\n",
       "    </tr>\n",
       "    <tr>\n",
       "      <td>1</td>\n",
       "      <td>would be a better experience if the video and ...</td>\n",
       "      <td>By Gabriel E R</td>\n",
       "      <td>Sep 28, 2020</td>\n",
       "      <td>4</td>\n",
       "      <td>google-cbrs-cpi-training</td>\n",
       "    </tr>\n",
       "    <tr>\n",
       "      <td>2</td>\n",
       "      <td>Information was perfect! The program itself wa...</td>\n",
       "      <td>By Jacob D</td>\n",
       "      <td>Apr 08, 2020</td>\n",
       "      <td>4</td>\n",
       "      <td>google-cbrs-cpi-training</td>\n",
       "    </tr>\n",
       "    <tr>\n",
       "      <td>3</td>\n",
       "      <td>A few grammatical mistakes on test made me do ...</td>\n",
       "      <td>By Dale B</td>\n",
       "      <td>Feb 24, 2020</td>\n",
       "      <td>4</td>\n",
       "      <td>google-cbrs-cpi-training</td>\n",
       "    </tr>\n",
       "    <tr>\n",
       "      <td>4</td>\n",
       "      <td>Excellent course and the training provided was...</td>\n",
       "      <td>By Sean G</td>\n",
       "      <td>Jun 18, 2020</td>\n",
       "      <td>4</td>\n",
       "      <td>google-cbrs-cpi-training</td>\n",
       "    </tr>\n",
       "  </tbody>\n",
       "</table>\n",
       "</div>"
      ],
      "text/plain": [
       "                                             reviews       reviewers  \\\n",
       "0  Pretty dry, but I was able to pass with just t...     By Robert S   \n",
       "1  would be a better experience if the video and ...  By Gabriel E R   \n",
       "2  Information was perfect! The program itself wa...      By Jacob D   \n",
       "3  A few grammatical mistakes on test made me do ...       By Dale B   \n",
       "4  Excellent course and the training provided was...       By Sean G   \n",
       "\n",
       "   date_reviews  rating                 course_id  \n",
       "0  Feb 12, 2020       4  google-cbrs-cpi-training  \n",
       "1  Sep 28, 2020       4  google-cbrs-cpi-training  \n",
       "2  Apr 08, 2020       4  google-cbrs-cpi-training  \n",
       "3  Feb 24, 2020       4  google-cbrs-cpi-training  \n",
       "4  Jun 18, 2020       4  google-cbrs-cpi-training  "
      ]
     },
     "execution_count": 65,
     "metadata": {},
     "output_type": "execute_result"
    }
   ],
   "source": [
    "coursereviews.head()"
   ]
  },
  {
   "cell_type": "code",
   "execution_count": 66,
   "metadata": {},
   "outputs": [
    {
     "data": {
      "text/plain": [
       "<matplotlib.axes._subplots.AxesSubplot at 0x180866cb488>"
      ]
     },
     "execution_count": 66,
     "metadata": {},
     "output_type": "execute_result"
    },
    {
     "data": {
      "image/png": "[encoded data removed]",
      "text/plain": [
       "<Figure size 432x288 with 1 Axes>"
      ]
     },
     "metadata": {
      "needs_background": "light"
     },
     "output_type": "display_data"
    }
   ],
   "source": [
    "#distribution of ratings\n",
    "coursereviews.rating.hist()"
   ]
  },
  {
   "cell_type": "code",
   "execution_count": 68,
   "metadata": {},
   "outputs": [
    {
     "data": {
      "text/plain": [
       "rating\n",
       "1      17354\n",
       "2      16188\n",
       "3      48303\n",
       "4     226702\n",
       "5    1146164\n",
       "Name: course_id, dtype: int64"
      ]
     },
     "execution_count": 68,
     "metadata": {},
     "output_type": "execute_result"
    }
   ],
   "source": [
    "coursereviews.groupby('rating').count()['course_id']"
   ]
  },
  {
   "cell_type": "code",
   "execution_count": 69,
   "metadata": {},
   "outputs": [],
   "source": [
    "#The highly biased number of positive reviews will make it very tough to do supervised learning on the opinions of the reviews. \n",
    "#One way can be to use a random lesser number of reviews for opinion learning. "
   ]
  },
  {
   "cell_type": "code",
   "execution_count": 85,
   "metadata": {},
   "outputs": [],
   "source": [
    "#Finding the most popular courses\n",
    "courseReviewCounts = coursereviews.groupby('course_id').count()['rating']"
   ]
  },
  {
   "cell_type": "code",
   "execution_count": 95,
   "metadata": {},
   "outputs": [],
   "source": [
    "topcourses = courseReviewCounts[courseReviewCounts.values.argsort()[-10:]]"
   ]
  },
  {
   "cell_type": "code",
   "execution_count": 99,
   "metadata": {},
   "outputs": [
    {
     "data": {
      "text/plain": [
       "<BarContainer object of 10 artists>"
      ]
     },
     "execution_count": 99,
     "metadata": {},
     "output_type": "execute_result"
    },
    {
     "data": {
      "image/png": "[encoded data removed]",
      "text/plain": [
       "<Figure size 1440x720 with 1 Axes>"
      ]
     },
     "metadata": {
      "needs_background": "light"
     },
     "output_type": "display_data"
    }
   ],
   "source": [
    "fig, axis = plt.subplots(figsize = (20,10))\n",
    "plt.bar(x = topcourses.index, height=topcourses.values,width = 0.8)"
   ]
  },
  {
   "cell_type": "code",
   "execution_count": 100,
   "metadata": {},
   "outputs": [
    {
     "data": {
      "text/plain": [
       "course_id\n",
       "the-science-of-well-being         20085\n",
       "what-is-datascience               21087\n",
       "excel-essentials                  21251\n",
       "ai-for-everyone                   21630\n",
       "learning-how-to-learn             32265\n",
       "python-data                       33546\n",
       "technical-support-fundamentals    35319\n",
       "neural-networks-deep-learning     35750\n",
       "machine-learning                  35895\n",
       "python                            45218\n",
       "Name: rating, dtype: int64"
      ]
     },
     "execution_count": 100,
     "metadata": {},
     "output_type": "execute_result"
    }
   ],
   "source": [
    "topcourses"
   ]
  },
  {
   "cell_type": "code",
   "execution_count": 101,
   "metadata": {},
   "outputs": [],
   "source": [
    "#Almost all top courses are related to the field of data science(7/10). This makes it better for our usecase as we will have a \n",
    "#a lot of data to explore."
   ]
  },
  {
   "cell_type": "code",
   "execution_count": null,
   "metadata": {},
   "outputs": [],
   "source": []
  },
  {
   "cell_type": "code",
   "execution_count": 16,
   "metadata": {},
   "outputs": [],
   "source": [
    "textfile = \"\\n\"\n",
    "textfile = textfile.join(coursereviews['reviews'][:100])"
   ]
  },
  {
   "cell_type": "code",
   "execution_count": 17,
   "metadata": {},
   "outputs": [],
   "source": [
    "f= open(\"samplereviews.txt\",\"w+\")\n",
    "f.write(textfile)\n",
    "f.close()"
   ]
  },
  {
   "cell_type": "code",
   "execution_count": 15,
   "metadata": {},
   "outputs": [
    {
     "data": {
      "text/plain": [
       "'\\n'"
      ]
     },
     "execution_count": 15,
     "metadata": {},
     "output_type": "execute_result"
    }
   ],
   "source": [
    "textfile"
   ]
  },
  {
   "cell_type": "code",
   "execution_count": 14,
   "metadata": {},
   "outputs": [],
   "source": [
    "mlcoursereviews = coursereviews[coursereviews['course_id'] == 'machine-learning']"
   ]
  },
  {
   "cell_type": "code",
   "execution_count": 15,
   "metadata": {},
   "outputs": [
    {
     "data": {
      "text/plain": [
       "35895"
      ]
     },
     "execution_count": 15,
     "metadata": {},
     "output_type": "execute_result"
    }
   ],
   "source": [
    "len(mlcoursereviews)"
   ]
  },
  {
   "cell_type": "code",
   "execution_count": 7,
   "metadata": {},
   "outputs": [],
   "source": [
    "def tokenize(review):\n",
    "    return word_tokenize(review) "
   ]
  },
  {
   "cell_type": "code",
   "execution_count": 8,
   "metadata": {},
   "outputs": [],
   "source": [
    "def get_postags(row):\n",
    "    \n",
    "    postags = nltk.pos_tag(row)\n",
    "    list_classes = list()\n",
    "    for  word in postags:\n",
    "        list_classes.append(word[1])\n",
    "    \n",
    "    return list_classes"
   ]
  },
  {
   "cell_type": "code",
   "execution_count": 33,
   "metadata": {},
   "outputs": [],
   "source": [
    "postags = get_postags(tokens[0])"
   ]
  },
  {
   "cell_type": "code",
   "execution_count": 35,
   "metadata": {},
   "outputs": [
    {
     "name": "stdout",
     "output_type": "stream",
     "text": [
      "This is an extremely basic course. Machine learning is built on mathematics, yet this course treats mathematics as a mysterious monster to be avoided at all costs, which unfortunately left this student feeling frustrated and patronized. So much time is wasted in the videos with arduous explanations of trivialities, and so little taken up with the imparting of meaningful knowledge, that in the end I abandoned the videos altogether. The quizes were basic (largely based on recall of, rather than application of knowledge), as were the programming assignments (nearly all of which were spoon-fed, with the tasks sometimes being simple as multiplying two matrices together).If you are serious about machine learning and comfortable with mathematics (e.g. elementary linear algebra and probability), do yourself a favour and take Geoff Hinton's Neural Networks course instead, which is far more interesting and doesn't shy away from serious explanations of the mathematics of the underlying models.\n",
      "\n",
      "['DT', 'VBZ', 'DT', 'RB', 'JJ', 'NN', '.', 'NNP', 'NN', 'VBZ', 'VBN', 'IN', 'NNS', ',', 'RB', 'DT', 'NN', 'VBZ', 'NNS', 'IN', 'DT', 'JJ', 'NN', 'TO', 'VB', 'VBN', 'IN', 'DT', 'NNS', ',', 'WDT', 'RB', 'VBD', 'DT', 'NN', 'NN', 'VBN', 'CC', 'VBN', '.', 'RB', 'JJ', 'NN', 'VBZ', 'VBN', 'IN', 'DT', 'NN', 'IN', 'JJ', 'NNS', 'IN', 'NNS', ',', 'CC', 'RB', 'JJ', 'VBN', 'RP', 'IN', 'DT', 'NN', 'IN', 'JJ', 'NN', ',', 'IN', 'IN', 'DT', 'NN', 'PRP', 'VBD', 'DT', 'NN', 'RB', '.', 'DT', 'NNS', 'VBD', 'JJ', '(', 'RB', 'VBN', 'IN', 'NN', 'IN', ',', 'RB', 'IN', 'NN', 'IN', 'NN', ')', ',', 'IN', 'VBD', 'DT', 'NN', 'NNS', '(', 'RB', 'DT', 'IN', 'WDT', 'VBD', 'NNS', ',', 'IN', 'DT', 'NNS', 'RB', 'VBG', 'JJ', 'IN', 'VBG', 'CD', 'NNS', 'RB', ')', 'NN', 'PRP', 'VBP', 'JJ', 'IN', 'NN', 'NN', 'CC', 'JJ', 'IN', 'NNS', '(', 'NN', '.', 'JJ', 'JJ', 'NN', 'CC', 'NN', ')', ',', 'VBP', 'PRP', 'DT', 'NN', 'CC', 'VB', 'NNP', 'NNP', 'POS', 'NNP', 'NNP', 'NN', 'RB', ',', 'WDT', 'VBZ', 'RB', 'RBR', 'JJ', 'CC', 'VBZ', 'RB', 'VB', 'RP', 'IN', 'JJ', 'NNS', 'IN', 'DT', 'NNS', 'IN', 'DT', 'JJ', 'NNS', '.']\n"
     ]
    }
   ],
   "source": [
    "print(sampleReviews.iloc[0] + '\\n')\n",
    "print(postags)"
   ]
  },
  {
   "cell_type": "code",
   "execution_count": 39,
   "metadata": {},
   "outputs": [],
   "source": [
    "nounWords = []\n",
    "nounTags = ['NN','NNS','NNP','NNPS']\n",
    "for i in range(len(postags)):\n",
    "    if postags[i] in nounTags:\n",
    "        nounWords.append(tokens[0][i])\n",
    "        "
   ]
  },
  {
   "cell_type": "code",
   "execution_count": 40,
   "metadata": {},
   "outputs": [
    {
     "data": {
      "text/plain": [
       "['course',\n",
       " 'Machine',\n",
       " 'learning',\n",
       " 'mathematics',\n",
       " 'course',\n",
       " 'mathematics',\n",
       " 'monster',\n",
       " 'costs',\n",
       " 'student',\n",
       " 'feeling',\n",
       " 'time',\n",
       " 'videos',\n",
       " 'explanations',\n",
       " 'trivialities',\n",
       " 'imparting',\n",
       " 'knowledge',\n",
       " 'end',\n",
       " 'videos',\n",
       " 'quizes',\n",
       " 'recall',\n",
       " 'application',\n",
       " 'knowledge',\n",
       " 'programming',\n",
       " 'assignments',\n",
       " 'spoon-fed',\n",
       " 'tasks',\n",
       " 'matrices',\n",
       " '.If',\n",
       " 'machine',\n",
       " 'learning',\n",
       " 'mathematics',\n",
       " 'e.g',\n",
       " 'algebra',\n",
       " 'probability',\n",
       " 'favour',\n",
       " 'Geoff',\n",
       " 'Hinton',\n",
       " 'Neural',\n",
       " 'Networks',\n",
       " 'course',\n",
       " 'explanations',\n",
       " 'mathematics',\n",
       " 'models']"
      ]
     },
     "execution_count": 40,
     "metadata": {},
     "output_type": "execute_result"
    }
   ],
   "source": [
    "nounWords"
   ]
  },
  {
   "cell_type": "code",
   "execution_count": 48,
   "metadata": {},
   "outputs": [],
   "source": [
    "noun_dict = {}\n",
    "for review in mlcoursereviews['reviews']:\n",
    "    tokens = tokenize(review)\n",
    "    postags = get_postags(tokens)\n",
    "    for i in range(len(postags)):\n",
    "        if postags[i] in nounTags:\n",
    "            if tokens[i] in noun_dict:\n",
    "                noun_dict[tokens[i]] += 1\n",
    "            else:\n",
    "                noun_dict[tokens[i]] = 1"
   ]
  },
  {
   "cell_type": "code",
   "execution_count": 50,
   "metadata": {},
   "outputs": [],
   "source": [
    "#Finding the most appearing nouns\n",
    "topNounWords = {}\n",
    "for key,value in noun_dict.items():\n",
    "    if value > 700:\n",
    "        topNounWords[key] = value"
   ]
  },
  {
   "cell_type": "code",
   "execution_count": 51,
   "metadata": {},
   "outputs": [
    {
     "data": {
      "text/plain": [
       "119"
      ]
     },
     "execution_count": 51,
     "metadata": {},
     "output_type": "execute_result"
    }
   ],
   "source": [
    "len(topNounWords)"
   ]
  },
  {
   "cell_type": "code",
   "execution_count": 52,
   "metadata": {},
   "outputs": [
    {
     "data": {
      "text/plain": [
       "{'course': 46851,\n",
       " 'Machine': 8264,\n",
       " 'learning': 13531,\n",
       " 'mathematics': 1265,\n",
       " 'student': 1271,\n",
       " 'time': 4529,\n",
       " 'videos': 2294,\n",
       " 'explanations': 925,\n",
       " 'knowledge': 4297,\n",
       " 'end': 769,\n",
       " 'application': 893,\n",
       " 'programming': 5068,\n",
       " 'assignments': 5266,\n",
       " 'machine': 16302,\n",
       " 'algebra': 1208,\n",
       " 'week': 851,\n",
       " 'instructor': 1480,\n",
       " 'thing': 793,\n",
       " 'theory': 1360,\n",
       " 'someone': 712,\n",
       " 'ML': 6512,\n",
       " 'quizzes': 1072,\n",
       " 'professor': 1129,\n",
       " 'lectures': 2062,\n",
       " 'math': 2093,\n",
       " 'job': 1230,\n",
       " 'lecture': 973,\n",
       " 'material': 2542,\n",
       " 'Octave': 1217,\n",
       " 'code': 1039,\n",
       " 'Python': 890,\n",
       " 'lot': 6328,\n",
       " 'work': 1921,\n",
       " 'content': 1911,\n",
       " 'practice': 988,\n",
       " 'examples': 1965,\n",
       " 'Learning': 7370,\n",
       " 'topics': 2992,\n",
       " 'exercises': 3740,\n",
       " 'level': 1410,\n",
       " 'introduction': 2553,\n",
       " 'field': 2293,\n",
       " 'background': 1682,\n",
       " 'students': 1675,\n",
       " 'concepts': 6654,\n",
       " 'video': 1086,\n",
       " 'problem': 869,\n",
       " 'point': 836,\n",
       " 'Coursera': 2205,\n",
       " 'beginners': 1254,\n",
       " 'applications': 1658,\n",
       " 'life': 1203,\n",
       " 'information': 838,\n",
       " 'quality': 891,\n",
       " 'questions': 976,\n",
       " 'years': 844,\n",
       " 'experience': 2619,\n",
       " 'class': 4097,\n",
       " 'i': 1405,\n",
       " 'language': 824,\n",
       " 'explanation': 820,\n",
       " 'materials': 728,\n",
       " 'subject': 1133,\n",
       " 'teacher': 2417,\n",
       " 'Professor': 2517,\n",
       " 'AI': 925,\n",
       " 'people': 1742,\n",
       " 'way': 4571,\n",
       " 'problems': 1961,\n",
       " 'assignment': 749,\n",
       " 'courses': 2705,\n",
       " 'teaching': 1032,\n",
       " 'intuition': 901,\n",
       " 'Course': 998,\n",
       " 'weeks': 938,\n",
       " 'topic': 1593,\n",
       " 'overview': 843,\n",
       " 'part': 1127,\n",
       " 'details': 1018,\n",
       " 'understanding': 2256,\n",
       " 'Ng': 11178,\n",
       " 'algorithms': 4967,\n",
       " 'algorithm': 1196,\n",
       " 'mentors': 916,\n",
       " 'aspects': 722,\n",
       " 'basics': 1353,\n",
       " 'Dr.': 748,\n",
       " 'anyone': 2135,\n",
       " 'implementation': 722,\n",
       " 'effort': 1095,\n",
       " 'everything': 989,\n",
       " 'Andrew': 13612,\n",
       " 'concept': 909,\n",
       " 'beginner': 983,\n",
       " 'journey': 741,\n",
       " 'science': 851,\n",
       " 'world': 1897,\n",
       " 'things': 1853,\n",
       " 'manner': 742,\n",
       " 'bit': 1389,\n",
       " 'techniques': 1322,\n",
       " 'tools': 767,\n",
       " 'skills': 1134,\n",
       " 'Prof.': 2047,\n",
       " 'Thank': 4763,\n",
       " 'career': 871,\n",
       " 'data': 1231,\n",
       " 'online': 788,\n",
       " 'Thanks': 2368,\n",
       " 'foundation': 834,\n",
       " 'fundamentals': 731,\n",
       " 'thanks': 1482,\n",
       " 'Great': 1575,\n",
       " 'Prof': 746,\n",
       " 'everyone': 961,\n",
       " 'fun': 772,\n",
       " 'thank': 708,\n",
       " 'team': 918,\n",
       " 'NG': 1032}"
      ]
     },
     "execution_count": 52,
     "metadata": {},
     "output_type": "execute_result"
    }
   ],
   "source": [
    "topNounWords"
   ]
  },
  {
   "cell_type": "code",
   "execution_count": 3,
   "metadata": {},
   "outputs": [],
   "source": [
    "import re\n",
    "import itertools\n",
    "import pandas as pd\n",
    "import datetime as dt\n",
    "import numpy as np\n",
    "\n",
    "import nltk\n",
    "from nltk.corpus import stopwords\n",
    "from nltk.collocations import BigramCollocationFinder\n",
    "from nltk.metrics import BigramAssocMeasures\n",
    "from nltk.tokenize import RegexpTokenizer\n",
    "import string\n",
    "import scipy.sparse as sparse\n",
    "import seaborn as sns\n",
    "import statsmodels.api as sm\n",
    "import statsmodels.formula.api as smf\n",
    "import matplotlib.pyplot as plt\n",
    "from mpl_toolkits.mplot3d import axes3d\n",
    "\n",
    "\n",
    "import spacy\n",
    "#spacy.load('en_vectors_web_lg')\n",
    "import en_core_web_lg\n",
    "from spacy import displacy\n",
    "#nlp = spacy.load('en')\n",
    "nlp = en_core_web_lg.load()\n",
    "from nltk.corpus import stopwords\n",
    "from nltk.collocations import BigramCollocationFinder\n",
    "from nltk.metrics import BigramAssocMeasures\n",
    "\n",
    "#nltk.download('vader_lexicon')\n",
    "from nltk.sentiment.vader import SentimentIntensityAnalyzer\n",
    "analyser = SentimentIntensityAnalyzer()"
   ]
  },
  {
   "cell_type": "code",
   "execution_count": 272,
   "metadata": {},
   "outputs": [],
   "source": [
    "def get_bigram_likelihood(statements, freq_filter=3, nbest=200):\n",
    "    \"\"\"\n",
    "    Returns n (likelihood ratio) bi-grams from a group of documents\n",
    "    :param        statements: list of strings\n",
    "    :param output_file: output path for saved file\n",
    "    :param freq_filter: filter for # of appearances in bi-gram\n",
    "    :param       nbest: likelihood ratio for bi-grams\n",
    "    \"\"\"\n",
    "\n",
    "    #words = list()\n",
    "    #tokenize sentence into words\n",
    "    #for statement in statements:\n",
    "        # remove non-words\n",
    "    tokenizer = RegexpTokenizer(r'\\w+')\n",
    "    words = tokenizer.tokenize(statements)\n",
    "\n",
    "    bigram_measures = nltk.collocations.BigramAssocMeasures()\n",
    "    bigram_finder = BigramCollocationFinder.from_words(words)\n",
    "\n",
    "    # only bi-grams that appear n+ times\n",
    "    bigram_finder.apply_freq_filter(freq_filter)\n",
    "\n",
    "    # TODO: use custom stop words\n",
    "    bigram_finder.apply_word_filter(lambda w: len(w) < 3 or w.lower() in nltk.corpus.stopwords.words('english'))\n",
    "\n",
    "    bigram_results = bigram_finder.nbest(bigram_measures.likelihood_ratio, nbest)\n",
    "    return bigram_finder.score_ngrams(bigram_measures.likelihood_ratio)"
   ]
  },
  {
   "cell_type": "code",
   "execution_count": 269,
   "metadata": {},
   "outputs": [],
   "source": [
    "def cleaned_reviews(x):\n",
    "    return(''.join(re.sub('[^a-zA-Z_.]', ' ', x)))"
   ]
  },
  {
   "cell_type": "code",
   "execution_count": 270,
   "metadata": {},
   "outputs": [],
   "source": [
    "cleanReviews = coursereviews['reviews'].apply(lambda x : cleaned_reviews(str(x)))\n"
   ]
  },
  {
   "cell_type": "code",
   "execution_count": 271,
   "metadata": {},
   "outputs": [
    {
     "name": "stdout",
     "output_type": "stream",
     "text": [
      "1454711\n"
     ]
    }
   ],
   "source": [
    "review_list = cleanReviews.tolist()\n",
    "print(len(review_list))\n",
    "raw_text = ''.join(review_list)"
   ]
  },
  {
   "cell_type": "code",
   "execution_count": 69,
   "metadata": {},
   "outputs": [
    {
     "data": {
      "text/plain": [
       "dtype('O')"
      ]
     },
     "execution_count": 69,
     "metadata": {},
     "output_type": "execute_result"
    }
   ],
   "source": [
    "cleanMLReviews.dtype"
   ]
  },
  {
   "cell_type": "code",
   "execution_count": 273,
   "metadata": {},
   "outputs": [],
   "source": [
    "bigrams = get_bigram_likelihood(raw_text.lower(), freq_filter=500, nbest=200)\n",
    "bigram_joint = [' '.join(list(s[0])) for s in bigrams]"
   ]
  },
  {
   "cell_type": "code",
   "execution_count": 274,
   "metadata": {},
   "outputs": [
    {
     "data": {
      "text/plain": [
       "1157"
      ]
     },
     "execution_count": 274,
     "metadata": {},
     "output_type": "execute_result"
    }
   ],
   "source": [
    "len(bigrams)"
   ]
  },
  {
   "cell_type": "code",
   "execution_count": 275,
   "metadata": {},
   "outputs": [],
   "source": [
    "def check_collocation_type(doc, collocation):\n",
    "    index = []\n",
    "    length =len(doc)\n",
    "    for i in range(length-1):\n",
    "        if collocation.split(' ')[0] in [doc[i].text, doc[i].lemma_]:\n",
    "            if collocation.split(' ')[1] in [doc[i+1].text, doc[i+1].lemma_]:\n",
    "                index.append(i)\n",
    "    if len(index)> 0:\n",
    "        return [(doc[index[0]].text, doc[index[0]+1].text),(doc[index[0]].pos_, doc[index[0]+1].pos_)]\n",
    "    else:\n",
    "        return False\n",
    "\n",
    "def select_sentence(review, collocation):\n",
    "    sentence_list = review.split('.')\n",
    "    selected_sentences = [sentence for sentence in sentence_list if collocation in sentence]\n",
    "    \n",
    "    return ' '.join(selected_sentences)\n",
    "    \n",
    "def gen(n):\n",
    "    while True:\n",
    "        yield n\n",
    "        n += 1"
   ]
  },
  {
   "cell_type": "code",
   "execution_count": 277,
   "metadata": {},
   "outputs": [],
   "source": [
    "selected_collocations_with_type = []\n",
    "for collocation in bigram_joint:\n",
    "\n",
    "    selected_data = [select_sentence(review.lower(), collocation) for review in review_list if collocation in review]\n",
    "\n",
    "    \n",
    "    g = gen(0)\n",
    "    while True:\n",
    "        index = next(g)\n",
    "        if index >= len(selected_data):\n",
    "            break\n",
    "        review = selected_data[index]\n",
    "        doc= nlp(review)\n",
    "        check = check_collocation_type(doc, collocation)\n",
    "        if check != False:\n",
    "            if  'DET' in check[1]:\n",
    "                break\n",
    "            if  'NUM' in check[1]:\n",
    "                break\n",
    "            if check[1][1] == 'ADJ':\n",
    "                break\n",
    "            if check[1][0] == 'ADJ' and check[1][1] == 'ADV':\n",
    "                break\n",
    "\n",
    "            if check[1][0] == 'ADV' and check[1][1] == 'ADV':\n",
    "                break\n",
    "            if check[1][1] == 'ADP':\n",
    "                break\n",
    "            if check[1][0] == 'ADV' and check[1][1] == 'VERB':\n",
    "                break\n",
    "            if check[1][0] == 'ADJ' and check[1][1] == 'VERB':\n",
    "                break\n",
    "            if check[1][0] == 'VERB' and check[1][1] == 'ADV':\n",
    "                break\n",
    "            if check[1][0] == 'VERB' and check[1][1] == 'NOUN':\n",
    "                break\n",
    "            if check[1][0] == 'VERB' and check[1][1] == 'VERB':\n",
    "                break\n",
    "            if check[0][1] == 'headphones':\n",
    "                break\n",
    "            if check[0][1] == 'product':\n",
    "                break\n",
    "            if check[0][0] in ['good','great','amazing','old','first','nice','better',\n",
    "                               'long', 'little', 'high', 'low', 'mid','build','price','comfortable',\n",
    "                              'price','light','second','best','new','reasonable','wonderful','awesome','fantastic',\n",
    "                              'interesting','excellent']:\n",
    "                break\n",
    "            if check[0][1] in ['loves','phone','time','phones','calls','lasts']:\n",
    "                break                      \n",
    "\n",
    "            selected_collocations_with_type.append(check)\n",
    "\n",
    "            full_data_doc = [(token, token.ent_type_, token.pos_, token.lemma_) for token in doc]\n",
    "            break\n",
    "        else:   \n",
    "            continue\n"
   ]
  },
  {
   "cell_type": "code",
   "execution_count": 278,
   "metadata": {},
   "outputs": [
    {
     "name": "stdout",
     "output_type": "stream",
     "text": [
      "('NOUN', 'VERB')  : \n",
      " [('machine', 'learning'), ('peer', 'reviewed'), ('peer', 'graded'), ('problem', 'solving'), ('course', 'thank'), ('life', 'changing'), ('peer', 'reviewed'), ('course', 'provides'), ('course', 'helped'), ('brain', 'works'), ('course', 'gives'), ('time', 'consuming'), ('decision', 'making'), ('mind', 'blowing'), ('course', 'gave'), ('topics', 'covered'), ('course', 'covers'), ('course', 'learning'), ('time', 'spent'), ('job', 'explaining'), ('course', 'helps'), ('course', 'offers'), ('information', 'provided'), ('lot', 'thank'), ('tools', 'used'), ('knowledge', 'gained'), ('life', 'thank'), ('course', 'covering'), ('material', 'provided'), ('course', 'teaches'), ('material', 'covered'), ('course', 'provided'), ('information', 'presented'), ('assignments', 'could'), ('course', 'offered'), ('concepts', 'taught'), ('experience', 'thank'), ('things', 'work'), ('course', 'contains'), ('experience', 'learning'), ('course', 'taught'), ('concepts', 'explained'), ('time', 'learning'), ('course', 'could'), ('things', 'thank'), ('course', 'needs'), ('knowledge', 'thank'), ('courses', 'thank'), ('way', 'thank'), ('course', 'seems'), ('course', 'enjoyed'), ('course', 'made'), ('course', 'learnt'), ('course', 'cleared'), ('course', 'loved'), ('course', 'explains'), ('course', 'gives'), ('course', 'makes'), ('course', 'designing'), ('course', 'covered'), ('course', 'would'), ('course', 'got'), ('course', 'must'), ('course', 'learned'), ('course', 'looking'), ('course', 'help'), ('course', 'loved'), ('course', 'recommended')]\n",
      "\n",
      "\n",
      "('NOUN', 'NOUN')  : \n",
      " [('data', 'science'), ('programming', 'assignments'), ('course', 'course'), ('case', 'studies'), ('learning', 'experience'), ('data', 'scientist'), ('programming', 'exercises'), ('project', 'management'), ('eye', 'opening'), ('data', 'structures'), ('teaching', 'style'), ('eye', 'opener'), ('starting', 'point'), ('computer', 'science'), ('discussion', 'forums'), ('video', 'lectures'), ('supply', 'chain'), ('programming', 'languages'), ('cloud', 'platforms'), ('web', 'development'), ('design', 'thinking'), ('case', 'study'), ('discussion', 'forums'), ('python', 'programming'), ('quiz', 'questions'), ('wind', 'energy'), ('product', 'management'), ('entry', 'level'), ('customer', 'analytics'), ('learning', 'process'), ('course', 'content'), ('life', 'examples'), ('data', 'scientists'), ('auto', 'grader'), ('peer', 'reviews'), ('programming', 'assignments'), ('lecture', 'videos'), ('programming', 'languages'), ('sequence', 'models'), ('data', 'analytics'), ('game', 'development'), ('building', 'blocks'), ('gas', 'industry'), ('teaching', 'methods'), ('use', 'cases'), ('course', 'material'), ('learning', 'curve'), ('cloud', 'computing'), ('writing', 'skills'), ('grading', 'system'), ('core', 'concepts'), ('business', 'metrics'), ('course', 'thanks'), ('capstone', 'project'), ('web', 'data'), ('data', 'visualization'), ('programming', 'experience'), ('world', 'examples'), ('marketing', 'analytics'), ('lecture', 'notes'), ('time', 'series'), ('computer', 'networking'), ('programming', 'background'), ('source', 'tools'), ('day', 'life'), ('communication', 'skills'), ('data', 'structures'), ('programming', 'skills'), ('world', 'problems'), ('difficulty', 'level'), ('practice', 'exercises'), ('depth', 'knowledge'), ('learning', 'techniques'), ('research', 'methods'), ('python', 'data'), ('teaching', 'methodology'), ('people', 'analytics'), ('course', 'materials'), ('study', 'material'), ('crash', 'course'), ('user', 'experience'), ('teaching', 'methods'), ('video', 'lessons'), ('learning', 'specialization'), ('computer', 'programming'), ('practice', 'problems'), ('fun', 'learning'), ('programming', 'exercises'), ('course', 'structure'), ('teaching', 'skills'), ('learning', 'projects'), ('self', 'learning'), ('lot', 'thanks'), ('coding', 'experience'), ('quality', 'content'), ('python', 'basics'), ('background', 'knowledge'), ('learning', 'journey'), ('thanks', 'prof'), ('starter', 'courses'), ('refresher', 'course'), ('thanks', 'professor'), ('learning', 'project'), ('course', 'contents'), ('learning', 'materials'), ('experience', 'thanks'), ('programming', 'knowledge'), ('skills', 'thanks'), ('level', 'course'), ('teacher', 'thanks'), ('programming', 'course'), ('course', 'assignments'), ('learning', 'skills'), ('course', 'lots'), ('learning', 'materials'), ('learning', 'course'), ('course', 'lectures'), ('course', 'videos'), ('course', 'work'), ('foundation', 'course'), ('course', 'instructor'), ('course', 'instructors'), ('introduction', 'course'), ('fun', 'course'), ('quality', 'courses'), ('python', 'courses'), ('coursera', 'course'), ('beginners', 'course'), ('course', 'professor'), ('week', 'course')]\n",
      "\n",
      "\n",
      "('PROPN', 'PROPN')  : \n",
      " [('excelente', 'curso'), ('buen', 'curso'), ('este', 'curso'), ('muy', 'buen'), ('curso', 'muy'), ('muy', 'bueno'), ('muy', 'bien'), ('google', 'cloud'), ('muy', 'completo'), ('muito', 'bom'), ('bien', 'explicado'), ('muy', 'interesante'), ('los', 'temas'), ('barbara', 'oakley'), ('curso', 'para'), ('din', 'mico'), ('todos', 'los'), ('creo', 'que'), ('para', 'aprender'), ('curso', 'excelente'), ('los', 'conceptos'), ('para', 'poder'), ('watson', 'studio'), ('del', 'curso'), ('ibm', 'watson'), ('exerc', 'cios'), ('int', 'ressant'), ('las', 'herramientas'), ('los', 'profesores'), ('muy', 'buena'), ('las', 'personas'), ('jupyter', 'notebook'), ('sobre', 'todo'), ('sin', 'duda'), ('todas', 'las'), ('las', 'explicaciones'), ('son', 'muy'), ('los', 'ejercicios'), ('god', 'bless'), ('que', 'nos'), ('los', 'conocimientos'), ('incre', 'ble'), ('seguir', 'aprendiendo'), ('las', 'finanzas'), ('finanzas', 'personales'), ('til', 'para'), ('din', 'mica'), ('muy', 'claro'), ('las', 'clases'), ('duke', 'university'), ('dif', 'cil'), ('curso', 'introductorio'), ('curso', 'que'), ('los', 'contenidos'), ('robert', 'shiller'), ('herramientas', 'para'), ('los', 'videos'), ('much', 'simo'), ('muy', 'recomendable'), ('vida', 'diaria'), ('una', 'buena'), ('para', 'quienes'), ('para', 'entender'), ('charles', 'russell'), ('para', 'iniciar'), ('timo', 'curso'), ('para', 'mejorar'), ('una', 'gran'), ('las', 'tareas'), ('considero', 'que'), ('curso', 'aprend'), ('tener', 'una'), ('ibm', 'cloud'), ('las', 'actividades'), ('muy', 'buenos'), ('gracias', 'excelente'), ('aquellos', 'que'), ('yale', 'university'), ('con', 'los'), ('yonsei', 'university'), ('cada', 'uno'), ('curso', 'con'), ('professor', 'shiller'), ('mis', 'conocimientos'), ('para', 'empezar'), ('muy', 'buenas'), ('estoy', 'muy'), ('los', 'cuestionarios'), ('los', 'que'), ('andrew', 'sir'), ('del', 'tema'), ('muy', 'practico'), ('gran', 'curso'), ('curso', 'bastante'), ('para', 'comenzar'), ('los', 'ejemplos'), ('stanford', 'university'), ('para', 'los'), ('para', 'tener'), ('del', 'profesor'), ('bueno', 'para'), ('herramientas', 'que'), ('para', 'todos'), ('con', 'ejemplos'), ('con', 'las'), ('curso', 'fue'), ('muy', 'recomendado'), ('muy', 'clara'), ('esta', 'muy'), ('sir', 'andrew'), ('que', 'son'), ('manera', 'muy'), ('una', 'excelente'), ('para', 'ser'), ('que', 'los'), ('para', 'que'), ('excelente', 'muy'), ('temas', 'que'), ('mucho', 'para'), ('curso', 'muchas'), ('excelente', 'para'), ('para', 'las'), ('curso', 'pero'), ('que', 'las'), ('curso', 'los')]\n",
      "\n",
      "\n",
      "('ADJ', 'NOUN')  : \n",
      " [('excellent', 'course'), ('deep', 'learning'), ('neural', 'networks'), ('real', 'world'), ('real', 'life'), ('neural', 'network'), ('linear', 'algebra'), ('introductory', 'course'), ('many', 'things'), ('wonderful', 'course'), ('graphic', 'design'), ('financial', 'markets'), ('big', 'data'), ('final', 'assignment'), ('positive', 'psychology'), ('artificial', 'intelligence'), ('awesome', 'course'), ('final', 'project'), ('subject', 'matter'), ('basic', 'knowledge'), ('daily', 'life'), ('basic', 'concepts'), ('social', 'media'), ('fantastic', 'course'), ('interesting', 'course'), ('digital', 'marketing'), ('korean', 'language'), ('mental', 'health'), ('open', 'source'), ('online', 'course'), ('prior', 'knowledge'), ('many', 'thanks'), ('digital', 'transformation'), ('practical', 'examples'), ('online', 'courses'), ('functional', 'programming'), ('public', 'health'), ('special', 'thanks'), ('top', 'notch'), ('excellent', 'introduction'), ('solid', 'foundation'), ('financial', 'aid'), ('useful', 'information'), ('wide', 'range'), ('basic', 'understanding'), ('wonderful', 'experience'), ('personal', 'branding'), ('informative', 'course'), ('useful', 'course'), ('last', 'week'), ('next', 'course'), ('everyday', 'life'), ('key', 'concepts'), ('technical', 'support'), ('corporate', 'finance'), ('clear', 'explanations'), ('logistic', 'regression'), ('final', 'exam'), ('last', 'assignment'), ('previous', 'courses'), ('big', 'picture'), ('cyber', 'security'), ('valuable', 'information'), ('right', 'amount'), ('neural', 'nets'), ('deeper', 'understanding'), ('different', 'types'), ('next', 'courses'), ('beginner', 'level'), ('multiple', 'choices'), ('intermediate', 'levels'), ('modern', 'art'), ('clear', 'explanations'), ('american', 'law'), ('strong', 'foundations'), ('simple', 'way'), ('next', 'level'), ('hard', 'work'), ('absolute', 'beginners'), ('back', 'propagations'), ('several', 'times'), ('complex', 'concepts'), ('clinical', 'research'), ('previous', 'knowledge'), ('front', 'end'), ('financial', 'accounting'), ('practical', 'exercises'), ('excellent', 'teacher'), ('social', 'psychology'), ('detailed', 'explanation'), ('many', 'times'), ('practical', 'application'), ('correct', 'answer'), ('key', 'points'), ('big', 'thanks'), ('structured', 'course'), ('deep', 'dive'), ('practical', 'advice'), ('many', 'years'), ('digital', 'world'), ('higher', 'levels'), ('audio', 'quality'), ('easy', 'way'), ('different', 'ways'), ('practical', 'applications'), ('practical', 'tips'), ('brilliant', 'course'), ('complex', 'topics'), ('useful', 'tips'), ('different', 'aspects'), ('whole', 'specialization'), ('short', 'videos'), ('various', 'aspects'), ('english', 'language'), ('entire', 'team'), ('mathematical', 'background'), ('prior', 'experience'), ('professional', 'certificate'), ('important', 'concepts'), ('fundamental', 'concepts'), ('entire', 'course'), ('many', 'people'), ('professional', 'life'), ('many', 'aspects'), ('important', 'topics'), ('excellent', 'overview'), ('different', 'perspectives'), ('whole', 'team'), ('whole', 'course'), ('helpful', 'course'), ('deep', 'understanding'), ('perfect', 'course'), ('personal', 'life'), ('big', 'thanks'), ('excellent', 'job'), ('previous', 'experience'), ('practical', 'approach'), ('practical', 'knowledge'), ('awesome', 'experience'), ('right', 'level'), ('advanced', 'topics'), ('fundamental', 'knowledge'), ('understandable', 'way'), ('practical', 'aspects'), ('basic', 'level'), ('many', 'ways'), ('basic', 'concepts'), ('wonderful', 'opportunity'), ('simple', 'manner'), ('excelent', 'course'), ('basic', 'idea'), ('exceptional', 'course'), ('online', 'learning'), ('excellent', 'content'), ('effective', 'way'), ('outstanding', 'course'), ('complete', 'beginner'), ('advanced', 'courses'), ('much', 'fun'), ('important', 'information'), ('insightful', 'course'), ('excellent', 'teaching'), ('simple', 'language'), ('interesting', 'topics'), ('detailed', 'information'), ('online', 'teaching'), ('excellent', 'instructor'), ('basic', 'introduction'), ('clear', 'understanding'), ('comprehensive', 'course'), ('difficult', 'concepts'), ('basic', 'information'), ('important', 'things'), ('incredible', 'course'), ('many', 'concepts'), ('challenging', 'assignments'), ('useful', 'tools'), ('basic', 'python'), ('much', 'information'), ('fun', 'way'), ('many', 'examples'), ('many', 'topics'), ('beautiful', 'course'), ('future', 'thanks'), ('basic', 'programming'), ('enjoyable', 'course'), ('basic', 'skills'), ('organized', 'course'), ('helpful', 'thanks'), ('superb', 'course'), ('excellent', 'way'), ('clear', 'way'), ('basic', 'things'), ('practical', 'assignments'), ('excellent', 'material'), ('excellent', 'professor'), ('excellent', 'classes'), ('valuable', 'course'), ('interesting', 'information'), ('interesting', 'way'), ('much', 'professor'), ('interesting', 'content'), ('helpful', 'thanks'), ('wonderful', 'learning'), ('short', 'course'), ('much', 'knowledge'), ('previous', 'course'), ('challenging', 'course'), ('excellent', 'experience'), ('detailed', 'course'), ('fundamental', 'course'), ('useful', 'knowledge'), ('advanced', 'course'), ('basic', 'course'), ('beginner', 'course'), ('effective', 'course'), ('interactive', 'course'), ('free', 'course'), ('complete', 'course'), ('engaging', 'course'), ('important', 'course'), ('practical', 'courses'), ('overall', 'course')]\n",
      "\n",
      "\n",
      "('PROPN', 'INTJ')  : \n",
      " [('muchas', 'gracias')]\n",
      "\n",
      "\n",
      "('ADV', 'SCONJ')  : \n",
      " [('even', 'though')]\n",
      "\n",
      "\n",
      "('X', 'X')  : \n",
      " [('gracias', 'por'), ('muito', 'bem'), ('muy', 'importante'), ('que', 'est'), ('con', 'una'), ('por', 'este')]\n",
      "\n",
      "\n",
      "('VERB', 'SCONJ')  : \n",
      " [('feel', 'like'), ('felt', 'like'), ('feels', 'like'), ('looks', 'like'), ('seems', 'like')]\n",
      "\n",
      "\n",
      "('AUX', 'VERB')  : \n",
      " [('get', 'started')]\n",
      "\n",
      "\n",
      "('PROPN', 'NOUN')  : \n",
      " [('charles', 'severance'), ('data', 'analysis'), ('sin', 'embargo'), ('coursera', 'team'), ('jupyter', 'notebooks'), ('las', 'bases'), ('excel', 'skills'), ('python', 'language'), ('para', 'personas'), ('coursera', 'platform'), ('coursethis', 'course'), ('intro', 'course'), ('coursera', 'courses')]\n",
      "\n",
      "\n",
      "('NOUN', 'ADV')  : \n",
      " [('years', 'ago'), ('course', 'especially'), ('course', 'much'), ('course', 'really'), ('course', 'highly'), ('course', 'although'), ('course', 'ever'), ('course', 'however'), ('course', 'overall'), ('course', 'indeed'), ('course', 'even'), ('course', 'though'), ('course', 'extremely'), ('course', 'definitely'), ('course', 'best'), ('course', 'also'), ('course', 'quite'), ('course', 'well')]\n",
      "\n",
      "\n",
      "('NOUN', 'PROPN')  : \n",
      " [('html', 'css'), ('personas', 'que'), ('professor', 'andrew'), ('thanks', 'coursera'), ('professor', 'bloom'), ('mil', 'gracias'), ('thanks', 'andrew'), ('professor', 'charles'), ('thank', 'coursera'), ('course', 'prof')]\n",
      "\n",
      "\n",
      "('X', 'PROPN')  : \n",
      " [('gusto', 'mucho'), ('ense', 'anza'), ('compa', 'eros'), ('una', 'manera'), ('bien', 'estructurado'), ('muchas', 'cosas'), ('para', 'quem'), ('cosas', 'que'), ('gran', 'ayuda'), ('fue', 'muy'), ('este', 'tipo'), ('con', 'este'), ('gracias', 'muy')]\n",
      "\n",
      "\n",
      "('PRON', 'ADV')  : \n",
      " [('something', 'new')]\n",
      "\n",
      "\n",
      "('VERB', 'PROPN')  : \n",
      " [('learn', 'python'), ('thank', 'youit'), ('using', 'excel'), ('learn', 'korean'), ('learning', 'korean'), ('use', 'python'), ('learn', 'excel'), ('learning', 'andrew')]\n",
      "\n",
      "\n",
      "('VERB', 'PRON')  : \n",
      " [('learn', 'something'), ('explains', 'everything'), ('know', 'anything'), ('thank', 'youi'), ('recommend', 'everyone'), ('learn', 'anything'), ('explained', 'everything'), ('learned', 'something'), ('learning', 'something'), ('understand', 'everything')]\n",
      "\n",
      "\n",
      "('PRON', 'VERB')  : \n",
      " [('anyone', 'looking'), ('anyone', 'wanting')]\n",
      "\n",
      "\n",
      "('PROPN', 'X')  : \n",
      " [('curso', 'muito'), ('una', 'forma'), ('curso', 'gracias')]\n",
      "\n",
      "\n",
      "('VERB', 'INTJ')  : \n",
      " [('learned', 'alot')]\n",
      "\n",
      "\n",
      "('ADJ', 'CCONJ')  : \n",
      " [('simple', 'yet')]\n",
      "\n",
      "\n",
      "('ADP', 'NOUN')  : \n",
      " [('per', 'week')]\n",
      "\n",
      "\n",
      "('NOUN', 'SCONJ')  : \n",
      " [('beginner', 'like'), ('beginners', 'like'), ('things', 'like'), ('people', 'like'), ('courses', 'like'), ('topics', 'like'), ('concepts', 'like'), ('course', 'like'), ('course', 'since')]\n",
      "\n",
      "\n",
      "('INTJ', 'PROPN')  : \n",
      " [('thanks', 'google')]\n",
      "\n",
      "\n",
      "('PRON', 'SCONJ')  : \n",
      " [('someone', 'like')]\n",
      "\n",
      "\n",
      "('PROPN', 'VERB')  : \n",
      " [('coursera', 'thank')]\n",
      "\n",
      "\n",
      "('VERB', 'AUX')  : \n",
      " [('could', 'get')]\n",
      "\n",
      "\n",
      "('ADV', 'PROPN')  : \n",
      " [('much', 'coursera')]\n",
      "\n",
      "\n",
      "('ADV', 'NOUN')  : \n",
      " [('easy', 'course'), ('much', 'thanks')]\n",
      "\n",
      "\n",
      "('NOUN', 'PRON')  : \n",
      " [('course', 'everything'), ('course', 'one')]\n",
      "\n",
      "\n"
     ]
    }
   ],
   "source": [
    "collocation_type_dict = {}\n",
    "for collocation in selected_collocations_with_type:\n",
    "    if collocation[1] not in collocation_type_dict:\n",
    "        collocation_type_dict.update({collocation[1]:[]})\n",
    "    \n",
    "    collocation_type_dict[collocation[1]].append(collocation[0])\n",
    "    \n",
    "for c in collocation_type_dict:\n",
    "    print(c,\" : \\n\", collocation_type_dict[c])\n",
    "    print('\\n')"
   ]
  },
  {
   "cell_type": "code",
   "execution_count": 295,
   "metadata": {},
   "outputs": [
    {
     "name": "stdout",
     "output_type": "stream",
     "text": [
      "(('data', 'science'), 269626.22756733076)\n",
      "(('programming', 'assignments'), 55004.061452238355)\n",
      "(('course', 'course'), 49293.20953907501)\n",
      "(('case', 'studies'), 49205.048761836275)\n",
      "(('learning', 'experience'), 39877.376842346945)\n",
      "(('data', 'scientist'), 36095.33428777014)\n",
      "(('programming', 'exercises'), 31144.447175282665)\n",
      "(('project', 'management'), 29695.160196615634)\n",
      "(('eye', 'opening'), 29383.963356196007)\n",
      "(('data', 'structures'), 29226.00049042948)\n",
      "(('teaching', 'style'), 27360.43253655757)\n",
      "(('eye', 'opener'), 25823.775316265746)\n",
      "(('starting', 'point'), 25660.55689217378)\n",
      "(('computer', 'science'), 25445.542237960854)\n",
      "(('discussion', 'forums'), 24379.29437653793)\n",
      "(('video', 'lectures'), 23532.635395918856)\n",
      "(('supply', 'chain'), 23209.53910621673)\n",
      "(('web', 'development'), 20280.746063400413)\n",
      "(('design', 'thinking'), 19605.562092214437)\n",
      "(('case', 'study'), 19595.235132026628)\n",
      "(('python', 'programming'), 18237.707152407238)\n",
      "(('quiz', 'questions'), 16010.456830472878)\n",
      "(('wind', 'energy'), 14374.592925695762)\n",
      "(('product', 'management'), 13431.11398163352)\n",
      "(('entry', 'level'), 12657.055100246822)\n",
      "(('customer', 'analytics'), 12187.471459007598)\n",
      "(('learning', 'process'), 11990.422979048744)\n",
      "(('course', 'content'), 11866.582215154483)\n",
      "(('life', 'examples'), 11185.354197734498)\n",
      "(('data', 'scientists'), 10425.936841186467)\n",
      "(('auto', 'grader'), 10404.343871472483)\n",
      "(('peer', 'reviews'), 10398.525696083598)\n",
      "(('lecture', 'videos'), 9933.590793603626)\n",
      "(('programming', 'languages'), 9575.782191966002)\n",
      "(('sequence', 'models'), 9072.010748986993)\n",
      "(('data', 'analytics'), 8870.453995877106)\n",
      "(('game', 'development'), 8859.753797897953)\n",
      "(('building', 'blocks'), 8818.927411441164)\n",
      "(('gas', 'industry'), 8718.952624976051)\n",
      "(('use', 'cases'), 8442.226225228647)\n",
      "(('course', 'material'), 7847.370196065596)\n",
      "(('learning', 'curve'), 7741.821697269546)\n",
      "(('cloud', 'computing'), 7726.014329137533)\n",
      "(('writing', 'skills'), 7559.517009998929)\n",
      "(('grading', 'system'), 7190.7700699532825)\n",
      "(('core', 'concepts'), 6987.390113616851)\n",
      "(('business', 'metrics'), 6936.96372940439)\n",
      "(('course', 'thanks'), 6927.8215874129255)\n",
      "(('capstone', 'project'), 6523.665746004066)\n",
      "(('web', 'data'), 6451.719725113589)\n",
      "(('data', 'visualization'), 6428.600205382255)\n",
      "(('programming', 'experience'), 6377.967619883451)\n",
      "(('world', 'examples'), 6318.448936361572)\n",
      "(('marketing', 'analytics'), 6243.689793419093)\n",
      "(('lecture', 'notes'), 5736.463494097678)\n",
      "(('time', 'series'), 5718.092660869228)\n",
      "(('computer', 'networking'), 5620.914516807257)\n",
      "(('programming', 'background'), 5535.349922356747)\n",
      "(('source', 'tools'), 5394.503043656306)\n",
      "(('day', 'life'), 5362.358874164327)\n",
      "(('communication', 'skills'), 5357.987728775023)\n",
      "(('programming', 'skills'), 4993.113139760916)\n",
      "(('world', 'problems'), 4963.589641661705)\n",
      "(('difficulty', 'level'), 4847.889931517774)\n",
      "(('practice', 'exercises'), 4552.405130598838)\n",
      "(('depth', 'knowledge'), 4503.775017673685)\n",
      "(('learning', 'techniques'), 4436.953614391581)\n",
      "(('research', 'methods'), 4329.990091194642)\n",
      "(('python', 'data'), 4212.766887729185)\n",
      "(('teaching', 'methodology'), 4154.885345021393)\n",
      "(('people', 'analytics'), 4045.7957598075855)\n",
      "(('course', 'materials'), 3978.5573059860085)\n",
      "(('study', 'material'), 3916.418633138095)\n",
      "(('crash', 'course'), 3649.3635472578167)\n",
      "(('user', 'experience'), 3620.1843393081394)\n",
      "(('teaching', 'methods'), 3440.9487774929303)\n",
      "(('video', 'lessons'), 3391.4119207127096)\n",
      "(('learning', 'specialization'), 3303.5434843643716)\n",
      "(('computer', 'programming'), 3058.3092994101066)\n",
      "(('practice', 'problems'), 3007.2244641946218)\n",
      "(('fun', 'learning'), 2991.2189441151113)\n",
      "(('course', 'structure'), 2781.915092751044)\n",
      "(('teaching', 'skills'), 2774.0594464783107)\n",
      "(('learning', 'projects'), 2725.7154095249034)\n",
      "(('self', 'learning'), 2438.8192368333976)\n",
      "(('lot', 'thanks'), 2436.439077033803)\n",
      "(('coding', 'experience'), 2347.6386340182107)\n",
      "(('quality', 'content'), 2282.4724684074263)\n",
      "(('python', 'basics'), 2267.671959380972)\n",
      "(('background', 'knowledge'), 2206.3658418302857)\n",
      "(('learning', 'journey'), 2181.882243560194)\n",
      "(('thanks', 'prof'), 2117.441044834297)\n",
      "(('refresher', 'course'), 1483.6665586395739)\n",
      "(('thanks', 'professor'), 1438.4495039078204)\n",
      "(('learning', 'project'), 1407.307127844152)\n",
      "(('course', 'contents'), 1373.5220417663443)\n",
      "(('learning', 'materials'), 1221.9697538968244)\n",
      "(('experience', 'thanks'), 1195.2659762717778)\n",
      "(('programming', 'knowledge'), 984.7802009983177)\n",
      "(('level', 'course'), 890.013203334491)\n",
      "(('programming', 'course'), 785.2578112684055)\n",
      "(('course', 'assignments'), 756.8917309947117)\n",
      "(('learning', 'skills'), 656.2974759522184)\n",
      "(('course', 'lots'), 592.3113105077418)\n",
      "(('learning', 'course'), 417.98046656340557)\n",
      "(('course', 'lectures'), 319.30868072472435)\n",
      "(('course', 'videos'), 304.7903904403822)\n",
      "(('course', 'work'), 269.0501553897052)\n",
      "(('foundation', 'course'), 230.10893601430905)\n",
      "(('course', 'instructor'), 204.90808118188716)\n",
      "(('course', 'instructors'), 196.54506523025145)\n",
      "(('introduction', 'course'), 190.81289613997706)\n",
      "(('fun', 'course'), 168.89989915614763)\n",
      "(('coursera', 'course'), 107.70384536697395)\n",
      "(('beginners', 'course'), 105.56790694148265)\n",
      "(('course', 'professor'), 49.26675051228983)\n",
      "(('week', 'course'), 0.35302498918964176)\n"
     ]
    }
   ],
   "source": [
    "selected_collocations = [x[0] for x in selected_collocations_with_type if x[1] == ('NOUN','NOUN')]\n",
    "bigrams_updated = [x for x in bigrams if x[0] in selected_collocations]\n",
    "for b in bigrams_updated:\n",
    "    print(b)"
   ]
  },
  {
   "cell_type": "code",
   "execution_count": 296,
   "metadata": {},
   "outputs": [
    {
     "data": {
      "text/plain": [
       "117"
      ]
     },
     "execution_count": 296,
     "metadata": {},
     "output_type": "execute_result"
    }
   ],
   "source": [
    "len(bigrams_updated)"
   ]
  },
  {
   "cell_type": "code",
   "execution_count": 322,
   "metadata": {},
   "outputs": [],
   "source": [
    "def streamRelevantBigramProb(bigrams, stream):\n",
    "    streamReviews = coursereviews[coursereviews['course_id'] == stream]['reviews'].apply(lambda x : cleaned_reviews(str(x)))\n",
    "    reviewText = \"\".join(streamReviews)\n",
    "    tokenizer = RegexpTokenizer(r'\\w+')\n",
    "    words = tokenizer.tokenize(reviewText)\n",
    "    bigramsProb = {}\n",
    "    for (word1, word2), score in bigrams:\n",
    "        phrase = word1 + \" \" + word2\n",
    "        count = phraseCountinText(phrase,reviewText)\n",
    "        if count != 0:\n",
    "            bigramsProb[phrase] = -np.log(count/len(words))\n",
    "    return bigramsProb   "
   ]
  },
  {
   "cell_type": "code",
   "execution_count": 317,
   "metadata": {},
   "outputs": [],
   "source": [
    "def allBigramsProb(bigrams):\n",
    "    totalReviewCount = len(coursereviews)\n",
    "    tokenizer = RegexpTokenizer(r'\\w+')\n",
    "    words = tokenizer.tokenize(raw_text)\n",
    "    bigramsProb = {}\n",
    "    for (word1, word2), score in bigrams:\n",
    "        phrase = word1 + \" \" + word2\n",
    "        count = phraseCountinText(phrase,raw_text)\n",
    "        bigramsProb[phrase] = -np.log(count/len(words))\n",
    "    return bigramsProb"
   ]
  },
  {
   "cell_type": "code",
   "execution_count": 318,
   "metadata": {},
   "outputs": [],
   "source": [
    "def phraseCountinText(phrase, text):\n",
    "    return len(re.findall(phrase,text))"
   ]
  },
  {
   "cell_type": "code",
   "execution_count": 304,
   "metadata": {},
   "outputs": [],
   "source": [
    "bigramProbDict = allBigramsProb(bigrams_updated)"
   ]
  },
  {
   "cell_type": "code",
   "execution_count": 323,
   "metadata": {},
   "outputs": [],
   "source": [
    "mlbigramProbDict = streamRelevantBigramProb(bigrams_updated,'machine-learning')"
   ]
  },
  {
   "cell_type": "code",
   "execution_count": 324,
   "metadata": {},
   "outputs": [
    {
     "data": {
      "text/plain": [
       "{'data science': 8.468452328357067,\n",
       " 'programming assignments': 6.745316658827313,\n",
       " 'case studies': 11.536505263490684,\n",
       " 'learning experience': 8.248932907336249,\n",
       " 'data scientist': 9.831757171252258,\n",
       " 'programming exercises': 6.801281949254395,\n",
       " 'project management': 13.32826473271874,\n",
       " 'eye opening': 10.4015253306517,\n",
       " 'data structures': 12.635117552158794,\n",
       " 'teaching style': 8.810105923720277,\n",
       " 'eye opener': 10.992889816901702,\n",
       " 'starting point': 8.958816880251717,\n",
       " 'computer science': 8.600876914006399,\n",
       " 'discussion forums': 9.42293071544139,\n",
       " 'video lectures': 9.04697966784639,\n",
       " 'web development': 12.635117552158794,\n",
       " 'case study': 12.635117552158794,\n",
       " 'python programming': 12.480966872331535,\n",
       " 'quiz questions': 10.083071599533165,\n",
       " 'wind energy': 13.32826473271874,\n",
       " 'product management': 12.635117552158794,\n",
       " 'entry level': 10.475633302805422,\n",
       " 'learning process': 9.744745794262629,\n",
       " 'course content': 8.763916541250904,\n",
       " 'life examples': 9.59059511443537,\n",
       " 'data scientists': 10.93036945992037,\n",
       " 'auto grader': 12.635117552158794,\n",
       " 'lecture videos': 9.514222135650797,\n",
       " 'programming languages': 9.996060222543536,\n",
       " 'data analytics': 11.718826820284638,\n",
       " 'building blocks': 10.992889816901702,\n",
       " 'use cases': 9.852166042883466,\n",
       " 'course material': 8.244792114670217,\n",
       " 'learning curve': 9.364281988359883,\n",
       " 'grading system': 11.718826820284638,\n",
       " 'core concepts': 9.735529139157705,\n",
       " 'course thanks': 12.635117552158794,\n",
       " 'capstone project': 11.208001196518648,\n",
       " 'data visualization': 12.635117552158794,\n",
       " 'programming experience': 9.492403088256157,\n",
       " 'world examples': 9.544075098800478,\n",
       " 'marketing analytics': 13.32826473271874,\n",
       " 'lecture notes': 9.291078584336587,\n",
       " 'time series': 12.635117552158794,\n",
       " 'programming background': 9.894277528233593,\n",
       " 'source tools': 13.32826473271874,\n",
       " 'day life': 11.335834568028533,\n",
       " 'communication skills': 14.426877021386849,\n",
       " 'programming skills': 9.485234598777545,\n",
       " 'world problems': 8.83216564178501,\n",
       " 'difficulty level': 10.555676010478958,\n",
       " 'practice exercises': 11.382354583663426,\n",
       " 'depth knowledge': 9.960968902732265,\n",
       " 'learning techniques': 8.821074955090852,\n",
       " 'teaching methodology': 11.482438042220409,\n",
       " 'course materials': 9.64775352827532,\n",
       " 'study material': 11.025679639724693,\n",
       " 'crash course': 11.335834568028533,\n",
       " 'user experience': 13.32826473271874,\n",
       " 'teaching methods': 10.843358082930738,\n",
       " 'video lessons': 11.536505263490684,\n",
       " 'learning specialization': 10.57672941967679,\n",
       " 'computer programming': 11.025679639724693,\n",
       " 'practice problems': 12.124291928392804,\n",
       " 'fun learning': 10.083071599533165,\n",
       " 'course structure': 9.841909542716277,\n",
       " 'teaching skills': 10.475633302805422,\n",
       " 'learning projects': 10.020157774122596,\n",
       " 'self learning': 11.941970371598849,\n",
       " 'coding experience': 11.094672511211645,\n",
       " 'quality content': 10.713304954682542,\n",
       " 'background knowledge': 10.475633302805422,\n",
       " 'learning journey': 10.057429168919828,\n",
       " 'thanks prof': 12.635117552158794,\n",
       " 'refresher course': 12.635117552158794,\n",
       " 'thanks professor': 12.635117552158794,\n",
       " 'learning project': 9.529037221435937,\n",
       " 'course contents': 10.992889816901702,\n",
       " 'learning materials': 10.815959108742625,\n",
       " 'programming knowledge': 10.871528959897436,\n",
       " 'level course': 9.996060222543536,\n",
       " 'programming course': 11.718826820284638,\n",
       " 'course assignments': 10.992889816901702,\n",
       " 'learning skills': 10.316003157213538,\n",
       " 'learning course': 8.010144738874523,\n",
       " 'course lectures': 12.229652444050629,\n",
       " 'course videos': 10.763315375257202,\n",
       " 'course work': 10.57672941967679,\n",
       " 'foundation course': 10.763315375257202,\n",
       " 'course instructor': 10.737997567272913,\n",
       " 'course instructors': 13.32826473271874,\n",
       " 'introduction course': 10.083071599533165,\n",
       " 'fun course': 10.900516496770688,\n",
       " 'coursera course': 11.78781969177159,\n",
       " 'beginners course': 11.593663677330634,\n",
       " 'course professor': 13.32826473271874,\n",
       " 'week course': 10.62021453161653}"
      ]
     },
     "execution_count": 324,
     "metadata": {},
     "output_type": "execute_result"
    }
   ],
   "source": [
    "mlbigramProbDict"
   ]
  },
  {
   "cell_type": "code",
   "execution_count": 88,
   "metadata": {},
   "outputs": [
    {
     "name": "stdout",
     "output_type": "stream",
     "text": [
      "Collecting en_vectors_web_lg==2.3.0 from https://github.com/explosion/spacy-models/releases/download/en_vectors_web_lg-2.3.0/en_vectors_web_lg-2.3.0.tar.gz#egg=en_vectors_web_lg==2.3.0\n",
      "  Downloading https://github.com/explosion/spacy-models/releases/download/en_vectors_web_lg-2.3.0/en_vectors_web_lg-2.3.0.tar.gz (634.0MB)\n",
      "Requirement already satisfied: spacy<2.4.0,>=2.3.0 in c:\\users\\sablo\\anaconda3\\lib\\site-packages (from en_vectors_web_lg==2.3.0) (2.3.4)\n",
      "Requirement already satisfied: tqdm<5.0.0,>=4.38.0 in c:\\users\\sablo\\anaconda3\\lib\\site-packages (from spacy<2.4.0,>=2.3.0->en_vectors_web_lg==2.3.0) (4.53.0)\n",
      "Requirement already satisfied: srsly<1.1.0,>=1.0.2 in c:\\users\\sablo\\anaconda3\\lib\\site-packages (from spacy<2.4.0,>=2.3.0->en_vectors_web_lg==2.3.0) (1.0.4)\n",
      "Requirement already satisfied: wasabi<1.1.0,>=0.4.0 in c:\\users\\sablo\\anaconda3\\lib\\site-packages (from spacy<2.4.0,>=2.3.0->en_vectors_web_lg==2.3.0) (0.8.0)\n",
      "Requirement already satisfied: blis<0.8.0,>=0.4.0; python_version >= \"3.6\" in c:\\users\\sablo\\anaconda3\\lib\\site-packages (from spacy<2.4.0,>=2.3.0->en_vectors_web_lg==2.3.0) (0.7.3)\n",
      "Requirement already satisfied: cymem<2.1.0,>=2.0.2 in c:\\users\\sablo\\anaconda3\\lib\\site-packages (from spacy<2.4.0,>=2.3.0->en_vectors_web_lg==2.3.0) (2.0.4)\n",
      "Requirement already satisfied: thinc<7.5.0,>=7.4.1 in c:\\users\\sablo\\anaconda3\\lib\\site-packages (from spacy<2.4.0,>=2.3.0->en_vectors_web_lg==2.3.0) (7.4.3)\n",
      "Requirement already satisfied: numpy>=1.15.0 in c:\\users\\sablo\\anaconda3\\lib\\site-packages (from spacy<2.4.0,>=2.3.0->en_vectors_web_lg==2.3.0) (1.16.5)\n",
      "Requirement already satisfied: plac<1.2.0,>=0.9.6 in c:\\users\\sablo\\anaconda3\\lib\\site-packages (from spacy<2.4.0,>=2.3.0->en_vectors_web_lg==2.3.0) (1.1.3)\n",
      "Requirement already satisfied: preshed<3.1.0,>=3.0.2 in c:\\users\\sablo\\anaconda3\\lib\\site-packages (from spacy<2.4.0,>=2.3.0->en_vectors_web_lg==2.3.0) (3.0.4)\n",
      "Requirement already satisfied: catalogue<1.1.0,>=0.0.7 in c:\\users\\sablo\\anaconda3\\lib\\site-packages (from spacy<2.4.0,>=2.3.0->en_vectors_web_lg==2.3.0) (1.0.0)\n",
      "Requirement already satisfied: requests<3.0.0,>=2.13.0 in c:\\users\\sablo\\anaconda3\\lib\\site-packages (from spacy<2.4.0,>=2.3.0->en_vectors_web_lg==2.3.0) (2.21.0)\n",
      "Requirement already satisfied: setuptools in c:\\users\\sablo\\anaconda3\\lib\\site-packages (from spacy<2.4.0,>=2.3.0->en_vectors_web_lg==2.3.0) (41.4.0)\n",
      "Requirement already satisfied: murmurhash<1.1.0,>=0.28.0 in c:\\users\\sablo\\anaconda3\\lib\\site-packages (from spacy<2.4.0,>=2.3.0->en_vectors_web_lg==2.3.0) (1.0.4)\n",
      "Requirement already satisfied: importlib-metadata>=0.20; python_version < \"3.8\" in c:\\users\\sablo\\anaconda3\\lib\\site-packages (from catalogue<1.1.0,>=0.0.7->spacy<2.4.0,>=2.3.0->en_vectors_web_lg==2.3.0) (0.23)\n",
      "Requirement already satisfied: idna<2.9,>=2.5 in c:\\users\\sablo\\anaconda3\\lib\\site-packages (from requests<3.0.0,>=2.13.0->spacy<2.4.0,>=2.3.0->en_vectors_web_lg==2.3.0) (2.8)\n",
      "Requirement already satisfied: urllib3<1.25,>=1.21.1 in c:\\users\\sablo\\anaconda3\\lib\\site-packages (from requests<3.0.0,>=2.13.0->spacy<2.4.0,>=2.3.0->en_vectors_web_lg==2.3.0) (1.24.2)\n",
      "Requirement already satisfied: chardet<3.1.0,>=3.0.2 in c:\\users\\sablo\\anaconda3\\lib\\site-packages (from requests<3.0.0,>=2.13.0->spacy<2.4.0,>=2.3.0->en_vectors_web_lg==2.3.0) (3.0.4)\n",
      "Requirement already satisfied: certifi>=2017.4.17 in c:\\users\\sablo\\anaconda3\\lib\\site-packages (from requests<3.0.0,>=2.13.0->spacy<2.4.0,>=2.3.0->en_vectors_web_lg==2.3.0) (2019.9.11)\n",
      "Requirement already satisfied: zipp>=0.5 in c:\\users\\sablo\\anaconda3\\lib\\site-packages (from importlib-metadata>=0.20; python_version < \"3.8\"->catalogue<1.1.0,>=0.0.7->spacy<2.4.0,>=2.3.0->en_vectors_web_lg==2.3.0) (0.6.0)\n",
      "Requirement already satisfied: more-itertools in c:\\users\\sablo\\anaconda3\\lib\\site-packages (from zipp>=0.5->importlib-metadata>=0.20; python_version < \"3.8\"->catalogue<1.1.0,>=0.0.7->spacy<2.4.0,>=2.3.0->en_vectors_web_lg==2.3.0) (7.2.0)\n",
      "Building wheels for collected packages: en-vectors-web-lg\n",
      "  Building wheel for en-vectors-web-lg (setup.py): started\n",
      "  Building wheel for en-vectors-web-lg (setup.py): still running...\n",
      "  Building wheel for en-vectors-web-lg (setup.py): finished with status 'done'\n",
      "  Created wheel for en-vectors-web-lg: filename=en_vectors_web_lg-2.3.0-cp37-none-any.whl size=633155519 sha256=7bb193e1701b82795ae7b4e6a2764d60cb66388b49fe405850ac099b07cef4bb\n",
      "  Stored in directory: C:\\Users\\sablo\\AppData\\Local\\Temp\\pip-ephem-wheel-cache-zqarvyha\\wheels\\48\\27\\d6\\3a817056204e119a551c2a707624de8fbe1f7f6b8fe0c21991\n",
      "Successfully built en-vectors-web-lg\n",
      "Installing collected packages: en-vectors-web-lg\n",
      "Successfully installed en-vectors-web-lg-2.3.0\n",
      "[+] Download and installation successful\n",
      "You can now load the model via spacy.load('en_vectors_web_lg')\n"
     ]
    }
   ],
   "source": [
    "!python -m spacy download en_vectors_web_lg"
   ]
  },
  {
   "cell_type": "code",
   "execution_count": 9,
   "metadata": {},
   "outputs": [
    {
     "ename": "NameError",
     "evalue": "name 'spacy' is not defined",
     "output_type": "error",
     "traceback": [
      "\u001b[1;31m---------------------------------------------------------------------------\u001b[0m",
      "\u001b[1;31mNameError\u001b[0m                                 Traceback (most recent call last)",
      "\u001b[1;32m<ipython-input-9-426a4ce6deb7>\u001b[0m in \u001b[0;36m<module>\u001b[1;34m\u001b[0m\n\u001b[1;32m----> 1\u001b[1;33m \u001b[0mspacy\u001b[0m\u001b[1;33m.\u001b[0m\u001b[0mload\u001b[0m\u001b[1;33m(\u001b[0m\u001b[1;34m'en_vectors_web_lg'\u001b[0m\u001b[1;33m)\u001b[0m\u001b[1;33m\u001b[0m\u001b[1;33m\u001b[0m\u001b[0m\n\u001b[0m",
      "\u001b[1;31mNameError\u001b[0m: name 'spacy' is not defined"
     ]
    }
   ],
   "source": [
    "spacy.load('en_vectors_web_lg')"
   ]
  },
  {
   "cell_type": "code",
   "execution_count": 11,
   "metadata": {},
   "outputs": [
    {
     "data": {
      "text/html": [
       "<div>\n",
       "<style scoped>\n",
       "    .dataframe tbody tr th:only-of-type {\n",
       "        vertical-align: middle;\n",
       "    }\n",
       "\n",
       "    .dataframe tbody tr th {\n",
       "        vertical-align: top;\n",
       "    }\n",
       "\n",
       "    .dataframe thead th {\n",
       "        text-align: right;\n",
       "    }\n",
       "</style>\n",
       "<table border=\"1\" class=\"dataframe\">\n",
       "  <thead>\n",
       "    <tr style=\"text-align: right;\">\n",
       "      <th></th>\n",
       "      <th>name</th>\n",
       "      <th>institution</th>\n",
       "      <th>course_url</th>\n",
       "      <th>course_id</th>\n",
       "      <th>Rating</th>\n",
       "      <th>Difficulty</th>\n",
       "    </tr>\n",
       "    <tr>\n",
       "      <th>Tags</th>\n",
       "      <th></th>\n",
       "      <th></th>\n",
       "      <th></th>\n",
       "      <th></th>\n",
       "      <th></th>\n",
       "      <th></th>\n",
       "    </tr>\n",
       "  </thead>\n",
       "  <tbody>\n",
       "    <tr>\n",
       "      <td>['Arts and Humanities', 'History']</td>\n",
       "      <td>11</td>\n",
       "      <td>11</td>\n",
       "      <td>11</td>\n",
       "      <td>11</td>\n",
       "      <td>11</td>\n",
       "      <td>11</td>\n",
       "    </tr>\n",
       "    <tr>\n",
       "      <td>['Arts and Humanities', 'Music and Art']</td>\n",
       "      <td>26</td>\n",
       "      <td>26</td>\n",
       "      <td>26</td>\n",
       "      <td>26</td>\n",
       "      <td>26</td>\n",
       "      <td>26</td>\n",
       "    </tr>\n",
       "    <tr>\n",
       "      <td>['Arts and Humanities', 'Philosophy']</td>\n",
       "      <td>5</td>\n",
       "      <td>5</td>\n",
       "      <td>5</td>\n",
       "      <td>5</td>\n",
       "      <td>5</td>\n",
       "      <td>5</td>\n",
       "    </tr>\n",
       "    <tr>\n",
       "      <td>['Business', 'Business Essentials']</td>\n",
       "      <td>32</td>\n",
       "      <td>32</td>\n",
       "      <td>32</td>\n",
       "      <td>32</td>\n",
       "      <td>32</td>\n",
       "      <td>32</td>\n",
       "    </tr>\n",
       "    <tr>\n",
       "      <td>['Business', 'Business Strategy']</td>\n",
       "      <td>17</td>\n",
       "      <td>17</td>\n",
       "      <td>17</td>\n",
       "      <td>17</td>\n",
       "      <td>17</td>\n",
       "      <td>17</td>\n",
       "    </tr>\n",
       "    <tr>\n",
       "      <td>['Business', 'Entrepreneurship']</td>\n",
       "      <td>8</td>\n",
       "      <td>8</td>\n",
       "      <td>8</td>\n",
       "      <td>8</td>\n",
       "      <td>8</td>\n",
       "      <td>8</td>\n",
       "    </tr>\n",
       "    <tr>\n",
       "      <td>['Business', 'Finance']</td>\n",
       "      <td>28</td>\n",
       "      <td>28</td>\n",
       "      <td>28</td>\n",
       "      <td>28</td>\n",
       "      <td>28</td>\n",
       "      <td>28</td>\n",
       "    </tr>\n",
       "    <tr>\n",
       "      <td>['Business', 'Leadership and Management']</td>\n",
       "      <td>40</td>\n",
       "      <td>40</td>\n",
       "      <td>40</td>\n",
       "      <td>40</td>\n",
       "      <td>40</td>\n",
       "      <td>40</td>\n",
       "    </tr>\n",
       "    <tr>\n",
       "      <td>['Business', 'Marketing']</td>\n",
       "      <td>16</td>\n",
       "      <td>16</td>\n",
       "      <td>16</td>\n",
       "      <td>16</td>\n",
       "      <td>16</td>\n",
       "      <td>16</td>\n",
       "    </tr>\n",
       "    <tr>\n",
       "      <td>['Computer Science', 'Algorithms']</td>\n",
       "      <td>10</td>\n",
       "      <td>10</td>\n",
       "      <td>10</td>\n",
       "      <td>10</td>\n",
       "      <td>10</td>\n",
       "      <td>10</td>\n",
       "    </tr>\n",
       "    <tr>\n",
       "      <td>['Computer Science', 'Computer Security and Networks']</td>\n",
       "      <td>3</td>\n",
       "      <td>3</td>\n",
       "      <td>3</td>\n",
       "      <td>3</td>\n",
       "      <td>3</td>\n",
       "      <td>3</td>\n",
       "    </tr>\n",
       "    <tr>\n",
       "      <td>['Computer Science', 'Design and Product']</td>\n",
       "      <td>9</td>\n",
       "      <td>9</td>\n",
       "      <td>9</td>\n",
       "      <td>9</td>\n",
       "      <td>9</td>\n",
       "      <td>9</td>\n",
       "    </tr>\n",
       "    <tr>\n",
       "      <td>['Computer Science', 'Mobile and Web Development']</td>\n",
       "      <td>8</td>\n",
       "      <td>8</td>\n",
       "      <td>8</td>\n",
       "      <td>8</td>\n",
       "      <td>8</td>\n",
       "      <td>8</td>\n",
       "    </tr>\n",
       "    <tr>\n",
       "      <td>['Computer Science', 'Software Development']</td>\n",
       "      <td>41</td>\n",
       "      <td>41</td>\n",
       "      <td>41</td>\n",
       "      <td>41</td>\n",
       "      <td>41</td>\n",
       "      <td>41</td>\n",
       "    </tr>\n",
       "    <tr>\n",
       "      <td>['Data Science', 'Data Analysis']</td>\n",
       "      <td>39</td>\n",
       "      <td>39</td>\n",
       "      <td>39</td>\n",
       "      <td>39</td>\n",
       "      <td>39</td>\n",
       "      <td>39</td>\n",
       "    </tr>\n",
       "    <tr>\n",
       "      <td>['Data Science', 'Machine Learning']</td>\n",
       "      <td>24</td>\n",
       "      <td>24</td>\n",
       "      <td>24</td>\n",
       "      <td>24</td>\n",
       "      <td>24</td>\n",
       "      <td>24</td>\n",
       "    </tr>\n",
       "    <tr>\n",
       "      <td>['Data Science', 'Probability and Statistics']</td>\n",
       "      <td>8</td>\n",
       "      <td>8</td>\n",
       "      <td>8</td>\n",
       "      <td>8</td>\n",
       "      <td>8</td>\n",
       "      <td>8</td>\n",
       "    </tr>\n",
       "    <tr>\n",
       "      <td>['Health', 'Animal Health']</td>\n",
       "      <td>7</td>\n",
       "      <td>7</td>\n",
       "      <td>7</td>\n",
       "      <td>7</td>\n",
       "      <td>7</td>\n",
       "      <td>7</td>\n",
       "    </tr>\n",
       "    <tr>\n",
       "      <td>['Health', 'Basic Science']</td>\n",
       "      <td>31</td>\n",
       "      <td>31</td>\n",
       "      <td>31</td>\n",
       "      <td>31</td>\n",
       "      <td>31</td>\n",
       "      <td>31</td>\n",
       "    </tr>\n",
       "    <tr>\n",
       "      <td>['Health', 'Health Informatics']</td>\n",
       "      <td>1</td>\n",
       "      <td>1</td>\n",
       "      <td>1</td>\n",
       "      <td>1</td>\n",
       "      <td>1</td>\n",
       "      <td>1</td>\n",
       "    </tr>\n",
       "    <tr>\n",
       "      <td>['Health', 'Healthcare Management']</td>\n",
       "      <td>4</td>\n",
       "      <td>4</td>\n",
       "      <td>4</td>\n",
       "      <td>4</td>\n",
       "      <td>4</td>\n",
       "      <td>4</td>\n",
       "    </tr>\n",
       "    <tr>\n",
       "      <td>['Health', 'Nutrition']</td>\n",
       "      <td>6</td>\n",
       "      <td>6</td>\n",
       "      <td>6</td>\n",
       "      <td>6</td>\n",
       "      <td>6</td>\n",
       "      <td>6</td>\n",
       "    </tr>\n",
       "    <tr>\n",
       "      <td>['Health', 'Patient Care']</td>\n",
       "      <td>9</td>\n",
       "      <td>9</td>\n",
       "      <td>9</td>\n",
       "      <td>9</td>\n",
       "      <td>9</td>\n",
       "      <td>9</td>\n",
       "    </tr>\n",
       "    <tr>\n",
       "      <td>['Health', 'Psychology']</td>\n",
       "      <td>15</td>\n",
       "      <td>15</td>\n",
       "      <td>15</td>\n",
       "      <td>15</td>\n",
       "      <td>15</td>\n",
       "      <td>15</td>\n",
       "    </tr>\n",
       "    <tr>\n",
       "      <td>['Health', 'Public Health']</td>\n",
       "      <td>9</td>\n",
       "      <td>9</td>\n",
       "      <td>9</td>\n",
       "      <td>9</td>\n",
       "      <td>9</td>\n",
       "      <td>9</td>\n",
       "    </tr>\n",
       "    <tr>\n",
       "      <td>['Health', 'Research']</td>\n",
       "      <td>6</td>\n",
       "      <td>6</td>\n",
       "      <td>6</td>\n",
       "      <td>6</td>\n",
       "      <td>6</td>\n",
       "      <td>6</td>\n",
       "    </tr>\n",
       "    <tr>\n",
       "      <td>['Information Technology', 'Cloud Computing']</td>\n",
       "      <td>16</td>\n",
       "      <td>16</td>\n",
       "      <td>16</td>\n",
       "      <td>16</td>\n",
       "      <td>16</td>\n",
       "      <td>16</td>\n",
       "    </tr>\n",
       "    <tr>\n",
       "      <td>['Information Technology', 'Data Management']</td>\n",
       "      <td>1</td>\n",
       "      <td>1</td>\n",
       "      <td>1</td>\n",
       "      <td>1</td>\n",
       "      <td>1</td>\n",
       "      <td>1</td>\n",
       "    </tr>\n",
       "    <tr>\n",
       "      <td>['Information Technology', 'Networking']</td>\n",
       "      <td>2</td>\n",
       "      <td>2</td>\n",
       "      <td>2</td>\n",
       "      <td>2</td>\n",
       "      <td>2</td>\n",
       "      <td>2</td>\n",
       "    </tr>\n",
       "    <tr>\n",
       "      <td>['Information Technology', 'Security']</td>\n",
       "      <td>5</td>\n",
       "      <td>5</td>\n",
       "      <td>5</td>\n",
       "      <td>5</td>\n",
       "      <td>5</td>\n",
       "      <td>5</td>\n",
       "    </tr>\n",
       "    <tr>\n",
       "      <td>['Information Technology', 'Support and Operations']</td>\n",
       "      <td>7</td>\n",
       "      <td>7</td>\n",
       "      <td>7</td>\n",
       "      <td>7</td>\n",
       "      <td>7</td>\n",
       "      <td>7</td>\n",
       "    </tr>\n",
       "    <tr>\n",
       "      <td>['Language Learning', 'Learning English']</td>\n",
       "      <td>11</td>\n",
       "      <td>11</td>\n",
       "      <td>11</td>\n",
       "      <td>11</td>\n",
       "      <td>11</td>\n",
       "      <td>11</td>\n",
       "    </tr>\n",
       "    <tr>\n",
       "      <td>['Language Learning', 'Other Languages']</td>\n",
       "      <td>7</td>\n",
       "      <td>7</td>\n",
       "      <td>7</td>\n",
       "      <td>7</td>\n",
       "      <td>7</td>\n",
       "      <td>7</td>\n",
       "    </tr>\n",
       "    <tr>\n",
       "      <td>['Math and Logic', 'Math and Logic']</td>\n",
       "      <td>5</td>\n",
       "      <td>5</td>\n",
       "      <td>5</td>\n",
       "      <td>5</td>\n",
       "      <td>5</td>\n",
       "      <td>5</td>\n",
       "    </tr>\n",
       "    <tr>\n",
       "      <td>['Personal Development', 'Personal Development']</td>\n",
       "      <td>17</td>\n",
       "      <td>17</td>\n",
       "      <td>17</td>\n",
       "      <td>17</td>\n",
       "      <td>17</td>\n",
       "      <td>17</td>\n",
       "    </tr>\n",
       "    <tr>\n",
       "      <td>['Physical Science and Engineering', 'Chemistry']</td>\n",
       "      <td>2</td>\n",
       "      <td>2</td>\n",
       "      <td>2</td>\n",
       "      <td>2</td>\n",
       "      <td>2</td>\n",
       "      <td>2</td>\n",
       "    </tr>\n",
       "    <tr>\n",
       "      <td>['Physical Science and Engineering', 'Electrical Engineering']</td>\n",
       "      <td>5</td>\n",
       "      <td>5</td>\n",
       "      <td>5</td>\n",
       "      <td>5</td>\n",
       "      <td>5</td>\n",
       "      <td>5</td>\n",
       "    </tr>\n",
       "    <tr>\n",
       "      <td>['Physical Science and Engineering', 'Environmental Science and Sustainability']</td>\n",
       "      <td>9</td>\n",
       "      <td>9</td>\n",
       "      <td>9</td>\n",
       "      <td>9</td>\n",
       "      <td>9</td>\n",
       "      <td>9</td>\n",
       "    </tr>\n",
       "    <tr>\n",
       "      <td>['Physical Science and Engineering', 'Mechanical Engineering']</td>\n",
       "      <td>5</td>\n",
       "      <td>5</td>\n",
       "      <td>5</td>\n",
       "      <td>5</td>\n",
       "      <td>5</td>\n",
       "      <td>5</td>\n",
       "    </tr>\n",
       "    <tr>\n",
       "      <td>['Physical Science and Engineering', 'Physics and Astronomy']</td>\n",
       "      <td>3</td>\n",
       "      <td>3</td>\n",
       "      <td>3</td>\n",
       "      <td>3</td>\n",
       "      <td>3</td>\n",
       "      <td>3</td>\n",
       "    </tr>\n",
       "    <tr>\n",
       "      <td>['Physical Science and Engineering', 'Research Methods']</td>\n",
       "      <td>2</td>\n",
       "      <td>2</td>\n",
       "      <td>2</td>\n",
       "      <td>2</td>\n",
       "      <td>2</td>\n",
       "      <td>2</td>\n",
       "    </tr>\n",
       "    <tr>\n",
       "      <td>['Social Sciences', 'Economics']</td>\n",
       "      <td>12</td>\n",
       "      <td>12</td>\n",
       "      <td>12</td>\n",
       "      <td>12</td>\n",
       "      <td>12</td>\n",
       "      <td>12</td>\n",
       "    </tr>\n",
       "    <tr>\n",
       "      <td>['Social Sciences', 'Education']</td>\n",
       "      <td>11</td>\n",
       "      <td>11</td>\n",
       "      <td>11</td>\n",
       "      <td>11</td>\n",
       "      <td>11</td>\n",
       "      <td>11</td>\n",
       "    </tr>\n",
       "    <tr>\n",
       "      <td>['Social Sciences', 'Governance and Society']</td>\n",
       "      <td>24</td>\n",
       "      <td>24</td>\n",
       "      <td>24</td>\n",
       "      <td>24</td>\n",
       "      <td>24</td>\n",
       "      <td>24</td>\n",
       "    </tr>\n",
       "    <tr>\n",
       "      <td>['Social Sciences', 'Law']</td>\n",
       "      <td>16</td>\n",
       "      <td>16</td>\n",
       "      <td>16</td>\n",
       "      <td>16</td>\n",
       "      <td>16</td>\n",
       "      <td>16</td>\n",
       "    </tr>\n",
       "  </tbody>\n",
       "</table>\n",
       "</div>"
      ],
      "text/plain": [
       "                                                    name  institution  \\\n",
       "Tags                                                                    \n",
       "['Arts and Humanities', 'History']                    11           11   \n",
       "['Arts and Humanities', 'Music and Art']              26           26   \n",
       "['Arts and Humanities', 'Philosophy']                  5            5   \n",
       "['Business', 'Business Essentials']                   32           32   \n",
       "['Business', 'Business Strategy']                     17           17   \n",
       "['Business', 'Entrepreneurship']                       8            8   \n",
       "['Business', 'Finance']                               28           28   \n",
       "['Business', 'Leadership and Management']             40           40   \n",
       "['Business', 'Marketing']                             16           16   \n",
       "['Computer Science', 'Algorithms']                    10           10   \n",
       "['Computer Science', 'Computer Security and Net...     3            3   \n",
       "['Computer Science', 'Design and Product']             9            9   \n",
       "['Computer Science', 'Mobile and Web Development']     8            8   \n",
       "['Computer Science', 'Software Development']          41           41   \n",
       "['Data Science', 'Data Analysis']                     39           39   \n",
       "['Data Science', 'Machine Learning']                  24           24   \n",
       "['Data Science', 'Probability and Statistics']         8            8   \n",
       "['Health', 'Animal Health']                            7            7   \n",
       "['Health', 'Basic Science']                           31           31   \n",
       "['Health', 'Health Informatics']                       1            1   \n",
       "['Health', 'Healthcare Management']                    4            4   \n",
       "['Health', 'Nutrition']                                6            6   \n",
       "['Health', 'Patient Care']                             9            9   \n",
       "['Health', 'Psychology']                              15           15   \n",
       "['Health', 'Public Health']                            9            9   \n",
       "['Health', 'Research']                                 6            6   \n",
       "['Information Technology', 'Cloud Computing']         16           16   \n",
       "['Information Technology', 'Data Management']          1            1   \n",
       "['Information Technology', 'Networking']               2            2   \n",
       "['Information Technology', 'Security']                 5            5   \n",
       "['Information Technology', 'Support and Operati...     7            7   \n",
       "['Language Learning', 'Learning English']             11           11   \n",
       "['Language Learning', 'Other Languages']               7            7   \n",
       "['Math and Logic', 'Math and Logic']                   5            5   \n",
       "['Personal Development', 'Personal Development']      17           17   \n",
       "['Physical Science and Engineering', 'Chemistry']      2            2   \n",
       "['Physical Science and Engineering', 'Electrica...     5            5   \n",
       "['Physical Science and Engineering', 'Environme...     9            9   \n",
       "['Physical Science and Engineering', 'Mechanica...     5            5   \n",
       "['Physical Science and Engineering', 'Physics a...     3            3   \n",
       "['Physical Science and Engineering', 'Research ...     2            2   \n",
       "['Social Sciences', 'Economics']                      12           12   \n",
       "['Social Sciences', 'Education']                      11           11   \n",
       "['Social Sciences', 'Governance and Society']         24           24   \n",
       "['Social Sciences', 'Law']                            16           16   \n",
       "\n",
       "                                                    course_url  course_id  \\\n",
       "Tags                                                                        \n",
       "['Arts and Humanities', 'History']                          11         11   \n",
       "['Arts and Humanities', 'Music and Art']                    26         26   \n",
       "['Arts and Humanities', 'Philosophy']                        5          5   \n",
       "['Business', 'Business Essentials']                         32         32   \n",
       "['Business', 'Business Strategy']                           17         17   \n",
       "['Business', 'Entrepreneurship']                             8          8   \n",
       "['Business', 'Finance']                                     28         28   \n",
       "['Business', 'Leadership and Management']                   40         40   \n",
       "['Business', 'Marketing']                                   16         16   \n",
       "['Computer Science', 'Algorithms']                          10         10   \n",
       "['Computer Science', 'Computer Security and Net...           3          3   \n",
       "['Computer Science', 'Design and Product']                   9          9   \n",
       "['Computer Science', 'Mobile and Web Development']           8          8   \n",
       "['Computer Science', 'Software Development']                41         41   \n",
       "['Data Science', 'Data Analysis']                           39         39   \n",
       "['Data Science', 'Machine Learning']                        24         24   \n",
       "['Data Science', 'Probability and Statistics']               8          8   \n",
       "['Health', 'Animal Health']                                  7          7   \n",
       "['Health', 'Basic Science']                                 31         31   \n",
       "['Health', 'Health Informatics']                             1          1   \n",
       "['Health', 'Healthcare Management']                          4          4   \n",
       "['Health', 'Nutrition']                                      6          6   \n",
       "['Health', 'Patient Care']                                   9          9   \n",
       "['Health', 'Psychology']                                    15         15   \n",
       "['Health', 'Public Health']                                  9          9   \n",
       "['Health', 'Research']                                       6          6   \n",
       "['Information Technology', 'Cloud Computing']               16         16   \n",
       "['Information Technology', 'Data Management']                1          1   \n",
       "['Information Technology', 'Networking']                     2          2   \n",
       "['Information Technology', 'Security']                       5          5   \n",
       "['Information Technology', 'Support and Operati...           7          7   \n",
       "['Language Learning', 'Learning English']                   11         11   \n",
       "['Language Learning', 'Other Languages']                     7          7   \n",
       "['Math and Logic', 'Math and Logic']                         5          5   \n",
       "['Personal Development', 'Personal Development']            17         17   \n",
       "['Physical Science and Engineering', 'Chemistry']            2          2   \n",
       "['Physical Science and Engineering', 'Electrica...           5          5   \n",
       "['Physical Science and Engineering', 'Environme...           9          9   \n",
       "['Physical Science and Engineering', 'Mechanica...           5          5   \n",
       "['Physical Science and Engineering', 'Physics a...           3          3   \n",
       "['Physical Science and Engineering', 'Research ...           2          2   \n",
       "['Social Sciences', 'Economics']                            12         12   \n",
       "['Social Sciences', 'Education']                            11         11   \n",
       "['Social Sciences', 'Governance and Society']               24         24   \n",
       "['Social Sciences', 'Law']                                  16         16   \n",
       "\n",
       "                                                    Rating  Difficulty  \n",
       "Tags                                                                    \n",
       "['Arts and Humanities', 'History']                      11          11  \n",
       "['Arts and Humanities', 'Music and Art']                26          26  \n",
       "['Arts and Humanities', 'Philosophy']                    5           5  \n",
       "['Business', 'Business Essentials']                     32          32  \n",
       "['Business', 'Business Strategy']                       17          17  \n",
       "['Business', 'Entrepreneurship']                         8           8  \n",
       "['Business', 'Finance']                                 28          28  \n",
       "['Business', 'Leadership and Management']               40          40  \n",
       "['Business', 'Marketing']                               16          16  \n",
       "['Computer Science', 'Algorithms']                      10          10  \n",
       "['Computer Science', 'Computer Security and Net...       3           3  \n",
       "['Computer Science', 'Design and Product']               9           9  \n",
       "['Computer Science', 'Mobile and Web Development']       8           8  \n",
       "['Computer Science', 'Software Development']            41          41  \n",
       "['Data Science', 'Data Analysis']                       39          39  \n",
       "['Data Science', 'Machine Learning']                    24          24  \n",
       "['Data Science', 'Probability and Statistics']           8           8  \n",
       "['Health', 'Animal Health']                              7           7  \n",
       "['Health', 'Basic Science']                             31          31  \n",
       "['Health', 'Health Informatics']                         1           1  \n",
       "['Health', 'Healthcare Management']                      4           4  \n",
       "['Health', 'Nutrition']                                  6           6  \n",
       "['Health', 'Patient Care']                               9           9  \n",
       "['Health', 'Psychology']                                15          15  \n",
       "['Health', 'Public Health']                              9           9  \n",
       "['Health', 'Research']                                   6           6  \n",
       "['Information Technology', 'Cloud Computing']           16          16  \n",
       "['Information Technology', 'Data Management']            1           1  \n",
       "['Information Technology', 'Networking']                 2           2  \n",
       "['Information Technology', 'Security']                   5           5  \n",
       "['Information Technology', 'Support and Operati...       7           7  \n",
       "['Language Learning', 'Learning English']               11          11  \n",
       "['Language Learning', 'Other Languages']                 7           7  \n",
       "['Math and Logic', 'Math and Logic']                     5           5  \n",
       "['Personal Development', 'Personal Development']        17          17  \n",
       "['Physical Science and Engineering', 'Chemistry']        2           2  \n",
       "['Physical Science and Engineering', 'Electrica...       5           5  \n",
       "['Physical Science and Engineering', 'Environme...       9           9  \n",
       "['Physical Science and Engineering', 'Mechanica...       5           5  \n",
       "['Physical Science and Engineering', 'Physics a...       3           3  \n",
       "['Physical Science and Engineering', 'Research ...       2           2  \n",
       "['Social Sciences', 'Economics']                        12          12  \n",
       "['Social Sciences', 'Education']                        11          11  \n",
       "['Social Sciences', 'Governance and Society']           24          24  \n",
       "['Social Sciences', 'Law']                              16          16  "
      ]
     },
     "execution_count": 11,
     "metadata": {},
     "output_type": "execute_result"
    }
   ],
   "source": [
    "courses.groupby(\"Tags\").count()"
   ]
  },
  {
   "cell_type": "code",
   "execution_count": 11,
   "metadata": {},
   "outputs": [],
   "source": [
    "noun_dict = {}\n",
    "nounTags = ['NN','NNS','NNP','NNPS']\n",
    "for review in coursereviews['reviews']:\n",
    "    review = cleaned_reviews(str(review))\n",
    "    tokens = tokenize(str(review))\n",
    "    postags = get_postags(tokens)\n",
    "    for i in range(len(postags)):\n",
    "        if postags[i] in nounTags:\n",
    "            if tokens[i] in noun_dict:\n",
    "                noun_dict[tokens[i]] += 1\n",
    "            else:\n",
    "                noun_dict[tokens[i]] = 1"
   ]
  },
  {
   "cell_type": "code",
   "execution_count": 15,
   "metadata": {},
   "outputs": [],
   "source": [
    "#Finding the most appearing nouns\n",
    "topNounWords = {}\n",
    "for key,value in noun_dict.items():\n",
    "    if value > 500:\n",
    "        topNounWords[key] = value"
   ]
  },
  {
   "cell_type": "code",
   "execution_count": 5,
   "metadata": {},
   "outputs": [],
   "source": [
    "topNounWords = pd.read_csv(\"NounWordsClustered\")\n",
    "topNounWords = topNounWords.T"
   ]
  },
  {
   "cell_type": "code",
   "execution_count": 7,
   "metadata": {},
   "outputs": [],
   "source": [
    "topNounWords.drop(index = 'Unnamed: 0', inplace=True)"
   ]
  },
  {
   "cell_type": "code",
   "execution_count": 142,
   "metadata": {},
   "outputs": [],
   "source": [
    "wordvectors = {}\n",
    "for index,row in topNounWords.iterrows():\n",
    "    wordvector = nlp(index).vector\n",
    "    wordvectors[index] = wordvector\n",
    "\n"
   ]
  },
  {
   "cell_type": "code",
   "execution_count": null,
   "metadata": {},
   "outputs": [],
   "source": [
    "bigramvectors = {}\n",
    "for index,row in bigrams_updated.iterrows():\n",
    "    wordvector = nlp(index).vector\n",
    "    wordvectors[index] = wordvector\n"
   ]
  },
  {
   "cell_type": "code",
   "execution_count": 138,
   "metadata": {},
   "outputs": [],
   "source": [
    "from spellchecker import SpellChecker\n",
    "\n",
    "spell = SpellChecker(distance=2)  # set at initialization\n",
    "misspelled = spell.unknown(topNounWords.index.values)\n",
    "for word in misspelled:\n",
    "    topNounWords.rename(index={word:spell.correction(word)}, inplace=True)\n",
    "    "
   ]
  },
  {
   "cell_type": "code",
   "execution_count": 139,
   "metadata": {},
   "outputs": [
    {
     "data": {
      "text/plain": [
       "{'.i',\n",
       " '.thank',\n",
       " 'actividades',\n",
       " 'adem',\n",
       " 'ampliamente',\n",
       " 'analytics',\n",
       " 'aprend',\n",
       " 'aprendido',\n",
       " 'aprendiendo',\n",
       " 'aprendizaje',\n",
       " 'aquellos',\n",
       " 'aric',\n",
       " 'autograder',\n",
       " 'aws',\n",
       " 'bastante',\n",
       " 'beaucoup',\n",
       " 'blockchain',\n",
       " 'bocconi',\n",
       " 'bushee',\n",
       " 'comprender',\n",
       " 'conhecimento',\n",
       " 'conocimiento',\n",
       " 'conocimientos',\n",
       " 'contabilidad',\n",
       " 'course.i',\n",
       " 'course.it',\n",
       " 'course.thank',\n",
       " 'coursera',\n",
       " 'covid',\n",
       " 'creo',\n",
       " 'css',\n",
       " 'cualquier',\n",
       " 'cuestionarios',\n",
       " 'curso',\n",
       " 'deeplearning.ai',\n",
       " 'demasiado',\n",
       " 'desarrollo',\n",
       " 'dr.chuck',\n",
       " 'ejemplos',\n",
       " 'ejercicios',\n",
       " 'enriquecedor',\n",
       " 'entretenido',\n",
       " 'estoy',\n",
       " 'estructurado',\n",
       " 'excelent',\n",
       " 'excelente',\n",
       " 'excelentes',\n",
       " 'felicitaciones',\n",
       " 'fue',\n",
       " 'gcp',\n",
       " 'github',\n",
       " 'google',\n",
       " 'habilidades',\n",
       " 'herramienta',\n",
       " 'herramientas',\n",
       " 'html',\n",
       " 'hyperparameters',\n",
       " 'interesante',\n",
       " 'javascript',\n",
       " 'jira',\n",
       " 'joordens',\n",
       " 'json',\n",
       " 'jupyter',\n",
       " 'keras',\n",
       " 'lecciones',\n",
       " 'linux',\n",
       " 'matlab',\n",
       " 'mooc',\n",
       " 'moocs',\n",
       " 'muchas',\n",
       " 'muito',\n",
       " 'necesario',\n",
       " 'oportunidad',\n",
       " 'parab',\n",
       " 'plous',\n",
       " 'prashan',\n",
       " 'profundizar',\n",
       " 'qwiklabs',\n",
       " 'realmente',\n",
       " 'recomendado',\n",
       " 'rnn',\n",
       " 'rstudio',\n",
       " 'sejnowski',\n",
       " 'sencillo',\n",
       " 'seo',\n",
       " 'shiller',\n",
       " 'siedel',\n",
       " 'tensorflow',\n",
       " 'totalmente',\n",
       " 'universidad',\n",
       " 'vba',\n",
       " 'xml',\n",
       " 'yaakov',\n",
       " 'yonsei',\n",
       " 'youtube'}"
      ]
     },
     "execution_count": 139,
     "metadata": {},
     "output_type": "execute_result"
    }
   ],
   "source": [
    "spell.unknown(topNounWords.index.values)"
   ]
  },
  {
   "cell_type": "code",
   "execution_count": 143,
   "metadata": {},
   "outputs": [],
   "source": [
    "X = embedding_matrix=np.zeros((len(wordvectors),300))\n",
    "for i, (word, vector) in enumerate(wordvectors.items()):\n",
    "    X[i] = vector"
   ]
  },
  {
   "cell_type": "code",
   "execution_count": 19,
   "metadata": {},
   "outputs": [
    {
     "data": {
      "text/html": [
       "<div>\n",
       "<style scoped>\n",
       "    .dataframe tbody tr th:only-of-type {\n",
       "        vertical-align: middle;\n",
       "    }\n",
       "\n",
       "    .dataframe tbody tr th {\n",
       "        vertical-align: top;\n",
       "    }\n",
       "\n",
       "    .dataframe thead th {\n",
       "        text-align: right;\n",
       "    }\n",
       "</style>\n",
       "<table border=\"1\" class=\"dataframe\">\n",
       "  <thead>\n",
       "    <tr style=\"text-align: right;\">\n",
       "      <th></th>\n",
       "      <th>0</th>\n",
       "      <th>1</th>\n",
       "    </tr>\n",
       "  </thead>\n",
       "  <tbody>\n",
       "    <tr>\n",
       "      <td>Pretty</td>\n",
       "      <td>600</td>\n",
       "      <td>16</td>\n",
       "    </tr>\n",
       "    <tr>\n",
       "      <td>questions</td>\n",
       "      <td>18988</td>\n",
       "      <td>14</td>\n",
       "    </tr>\n",
       "    <tr>\n",
       "      <td>exam</td>\n",
       "      <td>2180</td>\n",
       "      <td>9</td>\n",
       "    </tr>\n",
       "    <tr>\n",
       "      <td>NO</td>\n",
       "      <td>536</td>\n",
       "      <td>16</td>\n",
       "    </tr>\n",
       "    <tr>\n",
       "      <td>course</td>\n",
       "      <td>929644</td>\n",
       "      <td>4</td>\n",
       "    </tr>\n",
       "  </tbody>\n",
       "</table>\n",
       "</div>"
      ],
      "text/plain": [
       "                0   1\n",
       "Pretty        600  16\n",
       "questions   18988  14\n",
       "exam         2180   9\n",
       "NO            536  16\n",
       "course     929644   4"
      ]
     },
     "execution_count": 19,
     "metadata": {},
     "output_type": "execute_result"
    }
   ],
   "source": [
    "topNounWords.head()"
   ]
  },
  {
   "cell_type": "code",
   "execution_count": 144,
   "metadata": {},
   "outputs": [],
   "source": [
    "from sklearn import cluster\n",
    "from sklearn import metrics\n",
    "NUM_CLUSTERS = 400\n",
    "kmeans = cluster.KMeans(n_clusters=NUM_CLUSTERS,max_iter=1000)\n",
    "kmeans.fit(X)\n",
    " \n",
    "labels = kmeans.labels_\n",
    "centroids = kmeans.cluster_centers_"
   ]
  },
  {
   "cell_type": "code",
   "execution_count": 101,
   "metadata": {},
   "outputs": [],
   "source": [
    "scores = list()\n",
    "for clustersize in range(100,400,10):\n",
    "    kmeans = cluster.KMeans(n_clusters=clustersize,max_iter=1000)\n",
    "    kmeans.fit(X)\n",
    "    scores.append(-kmeans.score(X))"
   ]
  },
  {
   "cell_type": "code",
   "execution_count": 103,
   "metadata": {},
   "outputs": [
    {
     "data": {
      "text/plain": [
       "<matplotlib.axes._subplots.AxesSubplot at 0x247b10762c8>"
      ]
     },
     "execution_count": 103,
     "metadata": {},
     "output_type": "execute_result"
    },
    {
     "data": {
      "image/png": "[encoded data removed]",
      "text/plain": [
       "<Figure size 432x288 with 1 Axes>"
      ]
     },
     "metadata": {
      "needs_background": "light"
     },
     "output_type": "display_data"
    }
   ],
   "source": [
    "sns.pointplot(x=scores,y=range(100,400,10), linestyles='-')"
   ]
  },
  {
   "cell_type": "code",
   "execution_count": 147,
   "metadata": {},
   "outputs": [
    {
     "data": {
      "text/plain": [
       "1904"
      ]
     },
     "execution_count": 147,
     "metadata": {},
     "output_type": "execute_result"
    }
   ],
   "source": [
    "len(labels)"
   ]
  },
  {
   "cell_type": "code",
   "execution_count": 145,
   "metadata": {
    "scrolled": true
   },
   "outputs": [
    {
     "ename": "IndexError",
     "evalue": "index 1904 is out of bounds for axis 0 with size 1904",
     "output_type": "error",
     "traceback": [
      "\u001b[1;31m---------------------------------------------------------------------------\u001b[0m",
      "\u001b[1;31mIndexError\u001b[0m                                Traceback (most recent call last)",
      "\u001b[1;32m<ipython-input-145-6291f84167fc>\u001b[0m in \u001b[0;36m<module>\u001b[1;34m\u001b[0m\n\u001b[0;32m      1\u001b[0m \u001b[1;32mfor\u001b[0m \u001b[0mi\u001b[0m\u001b[1;33m,\u001b[0m \u001b[1;33m(\u001b[0m\u001b[0mindex\u001b[0m\u001b[1;33m,\u001b[0m \u001b[0mrow\u001b[0m\u001b[1;33m)\u001b[0m \u001b[1;32min\u001b[0m \u001b[0menumerate\u001b[0m\u001b[1;33m(\u001b[0m\u001b[0mtopNounWords\u001b[0m\u001b[1;33m.\u001b[0m\u001b[0miterrows\u001b[0m\u001b[1;33m(\u001b[0m\u001b[1;33m)\u001b[0m\u001b[1;33m)\u001b[0m\u001b[1;33m:\u001b[0m\u001b[1;33m\u001b[0m\u001b[1;33m\u001b[0m\u001b[0m\n\u001b[1;32m----> 2\u001b[1;33m     \u001b[0mrow\u001b[0m\u001b[1;33m[\u001b[0m\u001b[1;36m1\u001b[0m\u001b[1;33m]\u001b[0m \u001b[1;33m=\u001b[0m \u001b[0mlabels\u001b[0m\u001b[1;33m[\u001b[0m\u001b[0mi\u001b[0m\u001b[1;33m]\u001b[0m\u001b[1;33m\u001b[0m\u001b[1;33m\u001b[0m\u001b[0m\n\u001b[0m",
      "\u001b[1;31mIndexError\u001b[0m: index 1904 is out of bounds for axis 0 with size 1904"
     ]
    }
   ],
   "source": [
    "for i, (index, row) in enumerate(topNounWords.iterrows()):\n",
    "    row[1] = labels[i]"
   ]
  },
  {
   "cell_type": "code",
   "execution_count": 24,
   "metadata": {},
   "outputs": [
    {
     "data": {
      "text/html": [
       "<div>\n",
       "<style scoped>\n",
       "    .dataframe tbody tr th:only-of-type {\n",
       "        vertical-align: middle;\n",
       "    }\n",
       "\n",
       "    .dataframe tbody tr th {\n",
       "        vertical-align: top;\n",
       "    }\n",
       "\n",
       "    .dataframe thead th {\n",
       "        text-align: right;\n",
       "    }\n",
       "</style>\n",
       "<table border=\"1\" class=\"dataframe\">\n",
       "  <thead>\n",
       "    <tr style=\"text-align: right;\">\n",
       "      <th></th>\n",
       "      <th>0</th>\n",
       "      <th>1</th>\n",
       "    </tr>\n",
       "  </thead>\n",
       "  <tbody>\n",
       "    <tr>\n",
       "      <td>Pretty</td>\n",
       "      <td>600</td>\n",
       "      <td>104</td>\n",
       "    </tr>\n",
       "    <tr>\n",
       "      <td>questions</td>\n",
       "      <td>18988</td>\n",
       "      <td>5</td>\n",
       "    </tr>\n",
       "    <tr>\n",
       "      <td>exam</td>\n",
       "      <td>2180</td>\n",
       "      <td>117</td>\n",
       "    </tr>\n",
       "    <tr>\n",
       "      <td>NO</td>\n",
       "      <td>536</td>\n",
       "      <td>251</td>\n",
       "    </tr>\n",
       "    <tr>\n",
       "      <td>course</td>\n",
       "      <td>929644</td>\n",
       "      <td>221</td>\n",
       "    </tr>\n",
       "    <tr>\n",
       "      <td>...</td>\n",
       "      <td>...</td>\n",
       "      <td>...</td>\n",
       "    </tr>\n",
       "    <tr>\n",
       "      <td>Impey</td>\n",
       "      <td>533</td>\n",
       "      <td>4</td>\n",
       "    </tr>\n",
       "    <tr>\n",
       "      <td>dinosaurs</td>\n",
       "      <td>536</td>\n",
       "      <td>351</td>\n",
       "    </tr>\n",
       "    <tr>\n",
       "      <td>Indigenous</td>\n",
       "      <td>550</td>\n",
       "      <td>238</td>\n",
       "    </tr>\n",
       "    <tr>\n",
       "      <td>Laurie</td>\n",
       "      <td>1715</td>\n",
       "      <td>24</td>\n",
       "    </tr>\n",
       "    <tr>\n",
       "      <td>Unity</td>\n",
       "      <td>1259</td>\n",
       "      <td>45</td>\n",
       "    </tr>\n",
       "  </tbody>\n",
       "</table>\n",
       "<p>1973 rows × 2 columns</p>\n",
       "</div>"
      ],
      "text/plain": [
       "                 0    1\n",
       "Pretty         600  104\n",
       "questions    18988    5\n",
       "exam          2180  117\n",
       "NO             536  251\n",
       "course      929644  221\n",
       "...            ...  ...\n",
       "Impey          533    4\n",
       "dinosaurs      536  351\n",
       "Indigenous     550  238\n",
       "Laurie        1715   24\n",
       "Unity         1259   45\n",
       "\n",
       "[1973 rows x 2 columns]"
      ]
     },
     "execution_count": 24,
     "metadata": {},
     "output_type": "execute_result"
    }
   ],
   "source": [
    "topNounWords"
   ]
  },
  {
   "cell_type": "code",
   "execution_count": 90,
   "metadata": {},
   "outputs": [
    {
     "data": {
      "text/html": [
       "<div>\n",
       "<style scoped>\n",
       "    .dataframe tbody tr th:only-of-type {\n",
       "        vertical-align: middle;\n",
       "    }\n",
       "\n",
       "    .dataframe tbody tr th {\n",
       "        vertical-align: top;\n",
       "    }\n",
       "\n",
       "    .dataframe thead th {\n",
       "        text-align: right;\n",
       "    }\n",
       "</style>\n",
       "<table border=\"1\" class=\"dataframe\">\n",
       "  <thead>\n",
       "    <tr style=\"text-align: right;\">\n",
       "      <th></th>\n",
       "      <th>0</th>\n",
       "      <th>1</th>\n",
       "    </tr>\n",
       "  </thead>\n",
       "  <tbody>\n",
       "    <tr>\n",
       "      <td>SQL</td>\n",
       "      <td>4717</td>\n",
       "      <td>392</td>\n",
       "    </tr>\n",
       "    <tr>\n",
       "      <td>JSON</td>\n",
       "      <td>673</td>\n",
       "      <td>392</td>\n",
       "    </tr>\n",
       "    <tr>\n",
       "      <td>XML</td>\n",
       "      <td>574</td>\n",
       "      <td>392</td>\n",
       "    </tr>\n",
       "  </tbody>\n",
       "</table>\n",
       "</div>"
      ],
      "text/plain": [
       "         0    1\n",
       "SQL   4717  392\n",
       "JSON   673  392\n",
       "XML    574  392"
      ]
     },
     "execution_count": 90,
     "metadata": {},
     "output_type": "execute_result"
    }
   ],
   "source": [
    "topNounWords[topNounWords[1] == 392]"
   ]
  },
  {
   "cell_type": "code",
   "execution_count": 240,
   "metadata": {},
   "outputs": [],
   "source": [
    "clusters = {}\n",
    "for (word,label) in zip([*wordvectors] , labels):\n",
    "    if type(topNounWords.loc[word].iloc[0]) == pd.Series:\n",
    "        count = topNounWords.loc[word].iloc[0][0]\n",
    "    else:\n",
    "        count = topNounWords.loc[word].iloc[0]\n",
    "    if label in clusters:\n",
    "        clusters[label].append((word, count))\n",
    "    else:\n",
    "        clusters[label] = [(word,count)]"
   ]
  },
  {
   "cell_type": "code",
   "execution_count": 207,
   "metadata": {},
   "outputs": [
    {
     "data": {
      "text/plain": [
       "[('use', 8913),\n",
       " ('order', 6226),\n",
       " ('access', 3476),\n",
       " ('help', 9288),\n",
       " ('needs', 1938),\n",
       " ('try', 1292),\n",
       " ('need', 3559),\n",
       " ('get', 1055),\n",
       " ('gain', 585),\n",
       " ('ability', 3155),\n",
       " ('YOU', 2587),\n",
       " ('TO', 2867),\n",
       " ('Will', 1051),\n",
       " ('advantage', 983),\n",
       " ('load', 526),\n",
       " ('supply', 785)]"
      ]
     },
     "execution_count": 207,
     "metadata": {},
     "output_type": "execute_result"
    }
   ],
   "source": [
    "clusters[1]"
   ]
  },
  {
   "cell_type": "code",
   "execution_count": 247,
   "metadata": {},
   "outputs": [],
   "source": [
    "filteredFeatures = []\n",
    "countlist = []\n",
    "for cluster in clusters:\n",
    "    counter = list(zip(*clusters[cluster]))[1]\n",
    "    words = list(zip(*clusters[cluster]))[0]\n",
    "    word = words[counter.index(max(counter))]\n",
    "    filteredFeatures.append(word)\n",
    "    countlist.append(max(counter))"
   ]
  },
  {
   "cell_type": "code",
   "execution_count": 239,
   "metadata": {},
   "outputs": [],
   "source": [
    "assert(type(topNounWords.loc[\"professor\"].iloc[0]) == pd.Series)"
   ]
  },
  {
   "cell_type": "code",
   "execution_count": 251,
   "metadata": {},
   "outputs": [],
   "source": [
    "#getting top 20 features\n",
    "topindices = []\n",
    "sortedlist = countlist.copy()\n",
    "sortedlist.sort()\n",
    "    "
   ]
  },
  {
   "cell_type": "code",
   "execution_count": 264,
   "metadata": {},
   "outputs": [],
   "source": [
    "for i in range(0,30):\n",
    "    count = sortedlist[400-i-1]\n",
    "    indexer = countlist.index(count)\n",
    "    word = filteredFeatures[indexer]\n",
    "    topindices.append(word)\n",
    "    "
   ]
  },
  {
   "cell_type": "code",
   "execution_count": 265,
   "metadata": {},
   "outputs": [
    {
     "data": {
      "text/plain": [
       "['course',\n",
       " 'lot',\n",
       " 'Thank',\n",
       " 'curse',\n",
       " 'way',\n",
       " 'Great',\n",
       " 'knowledge',\n",
       " 'learning',\n",
       " 'concepts',\n",
       " 'time',\n",
       " 'y',\n",
       " 'experience',\n",
       " 'content',\n",
       " 'assignments',\n",
       " 'que',\n",
       " 'material',\n",
       " 'information',\n",
       " 'introduction',\n",
       " 'videos',\n",
       " 'things',\n",
       " 'data',\n",
       " 'i',\n",
       " 'class',\n",
       " 'para',\n",
       " 'muy',\n",
       " 'examples',\n",
       " 'beginners',\n",
       " 'instructor',\n",
       " 'life',\n",
       " 'Coursera']"
      ]
     },
     "execution_count": 265,
     "metadata": {},
     "output_type": "execute_result"
    }
   ],
   "source": [
    "topindices"
   ]
  },
  {
   "cell_type": "code",
   "execution_count": 267,
   "metadata": {},
   "outputs": [],
   "source": [
    "#Manual selection\n",
    "selectedFeatures = ['course',\n",
    " 'knowledge',\n",
    " 'learning',\n",
    " 'concepts',\n",
    " 'time',\n",
    " 'experience',\n",
    " 'content',\n",
    " 'assignments',\n",
    " 'material',\n",
    " 'information',\n",
    " 'introduction',\n",
    " 'videos',\n",
    " 'class',\n",
    " 'examples',\n",
    " 'beginners',\n",
    " 'instructor',\n",
    " 'Coursera']"
   ]
  },
  {
   "cell_type": "code",
   "execution_count": 291,
   "metadata": {},
   "outputs": [
    {
     "data": {
      "text/plain": [
       "0.602251935700892"
      ]
     },
     "execution_count": 291,
     "metadata": {},
     "output_type": "execute_result"
    }
   ],
   "source": [
    "nlp(\"Theory\").similarity(nlp(\"Concept\"))"
   ]
  },
  {
   "cell_type": "code",
   "execution_count": 2,
   "metadata": {},
   "outputs": [
    {
     "data": {
      "text/plain": [
       "'avs'"
      ]
     },
     "execution_count": 2,
     "metadata": {},
     "output_type": "execute_result"
    }
   ],
   "source": [
    "\"\".join(['a','v','s'])"
   ]
  },
  {
   "cell_type": "code",
   "execution_count": 12,
   "metadata": {},
   "outputs": [],
   "source": [
    "# -*- coding: utf-8 -*-\n",
    "import numpy as np\n",
    "import pandas as pd\n",
    "import matplotlib.pyplot as plt\n",
    "import seaborn as sns\n",
    "import re\n",
    "import nltk\n",
    "from nltk.corpus import stopwords\n",
    "from nltk.tokenize import word_tokenize\n",
    "\"\"\"\n",
    "Created on Sat Dec  5 20:15:14 2020\n",
    "\n",
    "@author: sablo\n",
    "\"\"\"\n",
    "def extractLettersFromReview(x):\n",
    "    return(''.join(re.sub('[^a-zA-Z_.?!,;]', ' ', x)))\n",
    "\n",
    "def extractSentencesFromReview(x):\n",
    "    pattern = '(?<!\\.[a-zA-Z])[\\.\\?\\!](?![a-zA-Z]\\.)'\n",
    "    return re.split(pattern, x)\n",
    "\n",
    "def cleanReview(x):\n",
    "    sentences = extractSentencesFromReview(x)\n",
    "    y = sentences[0]\n",
    "    for sentence in sentences[1:]:\n",
    "        if len(sentence) > 0 and sentence[0] != ' ':\n",
    "            y = y + '. ' + sentence\n",
    "        else:\n",
    "            y = y + '.' + sentence\n",
    "    y = extractLettersFromReview(y)\n",
    "    return y  \n",
    "\n",
    "def isinEnglish(x):\n",
    "    stopwrds = stopwords.words(\"english\")\n",
    "    count = 0\n",
    "    words = x.split(' ')\n",
    "    for word in words:\n",
    "        if word in stopwrds:\n",
    "            count = count + 1\n",
    "        if count == 3:\n",
    "            return True\n",
    "    return False\n",
    "\n",
    "#CourseReviewDF - Keys -> Tags, Values -> Course_id, Reviews\n",
    "#Returns corpus text for that tag\n",
    "def generateCorpusbyTag(CourseReviewDF, tag):\n",
    "    if tag == ' ':\n",
    "        reviews = CourseReviewDF['reviews'][0:100]\n",
    "    else :\n",
    "        reviews = CourseReviewDF[CourseReviewDF['Tag'] == tag]['reviews']\n",
    "    reviews = reviews[reviews.apply(lambda x : isinEnglish(x))].apply(lambda y: cleanReview(y))\n",
    "    return ' '.join(reviews)\n",
    "    "
   ]
  },
  {
   "cell_type": "code",
   "execution_count": 13,
   "metadata": {},
   "outputs": [
    {
     "data": {
      "text/plain": [
       "'Pretty dry, but I was able to pass with just two complete watches so I m happy about that.  As usual there were some questions on the final exam that were NO WHERE in the course, which is annoying but far better than many microsoft tests I have taken.  Never found the suplimental material that the course references... but who cares... i passed. would be a better experience if the video and screen shots would sho on the side of the text that the instructor is going thru so that user does not have to go all the way to beginning of text to be able to view any slides instructor is showing. Information was perfect. The program itself was a little annoying. I had to wait    to    minutes after watching the videos to to take the quiz. Other than that the information was perfect and passed the test with no issues. A few grammatical mistakes on test made me do a double take but all in all not bad. Excellent course and the training provided was very detailed and easy to follow. Some of the quizzes contained material not explicitly covered in the course.  Solid presentation all the way through. I really appreciated the intermittent questions that popped up to check on learning as well the regular  but not needless  quizzing. There was visuals such as charts   . ppt for those of us more visually inclined as well as a transcript below the video that followed along with the presentation. Probably the best certification course I ve taken in this respect. The course is planned out carefully, and I believe gave me everything I needed to ace my exam the first time around. The trainer for the majority of the course was awesome. She delivered the material in a great, professional mannor, but was never boring or monotoned.  The ProctorU. com system took   times the amount of time spent on this course over   days to complete.  It is the worse production user system I have used in     years of my IT career.    You should switch to another vendor. Covered all of the required information in an easy to understand way and WITH VIDEO. Great, easy way to learn. The exam process was a bit drawn out and more extensive then it needed to be, but over all a great experience Great course, lectures were straight forward and easy to follow along.  The course provided all the information necessary to pass the CPI examination for certification. The course was straight forward and prepared me for the CPI exam. The course provided everything I needed to pass the exam. Thanks Google... thanks Coursera. Pretty well designed course. Few things on the test werent covered, but if you read the provided resources you should be fine.  Great course, i have feedback about one question and learning item id like to give feedback on. related to OMNI antennas The course was fine but I never received an email to download mt certificate, I have the password. Please contact me. Well presented course material that takes you step by step through the required learning.  Course is easy enough if you have a basic background of installing wireless equipment. The instructions were clear and concise. I enjoyed the learning process. Easy to follow. Did a good job at teaching me the material.  Excellent Training, More than enough to pass the test. Was able to knock it out in a day very good info. easy to follow along with and understand Solid presentation all the way through. I really appreciated the intermittent questions that popped up to check on learning as well the regular  but not needless  quizzing. There was visuals such as charts   . ppt for those of us more visually inclined as well as a transcript below the video that followed along with the presentation. Probably the best certification course I ve taken in this respect. The course is planned out carefully, and I believe gave me everything I needed to ace my exam the first time around. The trainer for the majority of the course was awesome. She delivered the material in a great, professional mannor, but was never boring or monotoned.  The ProctorU. com system took   times the amount of time spent on this course over   days to complete.  It is the worse production user system I have used in     years of my IT career.    You should switch to another vendor. Covered all of the required information in an easy to understand way and WITH VIDEO. Great, easy way to learn. The exam process was a bit drawn out and more extensive then it needed to be, but over all a great experience Great course, lectures were straight forward and easy to follow along.  The course provided all the information necessary to pass the CPI examination for certification. The course was straight forward and prepared me for the CPI exam. The course provided everything I needed to pass the exam. Thanks Google... thanks Coursera. Pretty well designed course. Few things on the test werent covered, but if you read the provided resources you should be fine.  Great course, i have feedback about one question and learning item id like to give feedback on. related to OMNI antennas The course was fine but I never received an email to download mt certificate, I have the password. Please contact me. Well presented course material that takes you step by step through the required learning.  Course is easy enough if you have a basic background of installing wireless equipment. The instructions were clear and concise. I enjoyed the learning process. Easy to follow. Did a good job at teaching me the material.  Excellent Training, More than enough to pass the test. Was able to knock it out in a day very good info. easy to follow along with and understand Solid presentation all the way through. I really appreciated the intermittent questions that popped up to check on learning as well the regular  but not needless  quizzing. There was visuals such as charts   . ppt for those of us more visually inclined as well as a transcript below the video that followed along with the presentation. Probably the best certification course I ve taken in this respect. The course is planned out carefully, and I believe gave me everything I needed to ace my exam the first time around. The trainer for the majority of the course was awesome. She delivered the material in a great, professional mannor, but was never boring or monotoned.  The ProctorU. com system took   times the amount of time spent on this course over   days to complete.  It is the worse production user system I have used in     years of my IT career.    You should switch to another vendor. Covered all of the required information in an easy to understand way and WITH VIDEO. Great, easy way to learn. The exam process was a bit drawn out and more extensive then it needed to be, but over all a great experience Great course, lectures were straight forward and easy to follow along.  The course provided all the information necessary to pass the CPI examination for certification. The course was straight forward and prepared me for the CPI exam. The course provided everything I needed to pass the exam. Thanks Google... thanks Coursera. Pretty well designed course. Few things on the test werent covered, but if you read the provided resources you should be fine.  Great course, i have feedback about one question and learning item id like to give feedback on. related to OMNI antennas The course was fine but I never received an email to download mt certificate, I have the password. Please contact me. Well presented course material that takes you step by step through the required learning.  Course is easy enough if you have a basic background of installing wireless equipment. The instructions were clear and concise. I enjoyed the learning process. Easy to follow. Did a good job at teaching me the material.  Excellent Training, More than enough to pass the test. Was able to knock it out in a day very good info. easy to follow along with and understand This course is virtually worthless. I couldn t follow the lectures, and I have a PhD and have been a tenured professor for almost two decades. The online course is based on snippets taken from face to face lectures and breakout sessions, and the result is utter incoherence. The instructor frequently refers to concepts that have not yet been encountered in the online version of the course; makes extensive use of mathematical notations and formulas whose variables are never properly explained; and generally does a poor job of explaining the material. This online version of the Yale course was obviously slapped together with very little thought and production value; it s one of those unsuccessful attempts to bring in revenue on the cheap, creating an online version out of existing face to face material, rather than building a real online course from scratch. This was wasted money and time. This attempt to capitalize on the Yale brand is pathetic.     This course was horrible. The Content was very disoriented and unclear. Videos were distorted, and jumping from one topic to another. There was no sense of continuity. One can not say this was a course from Yale... Terrible lecturer. Maybe he should retire. He can t stay on point. Lectures are unwatchable   except for the beautiful auditorium stage. This course was aweful. I feel like I didnt learn anything useful. The information is very superficial. The math that is applied at some points is not well explained. The overall course lacks structure and substance. The quizes were just terrible. Please dont waste your time with this. I was expecting more from the course. It is very unstrucuted and even misses a complete table of contents. Having paid for this course I would also have expected some manuscripts or at least a copy of the  rather unusable  slides. However the course gives a broad overview of financial topics and probably also mentions most of the concepts of key words. Unfortunately, Prof. Shiller fails to give adequate and precise definitions most of the time. They could have been included in the slides to help the students to learn in a more strucured manner. Probably the best thing about the course  for me  was that he recommended to read Nassim Taleb s works, which I did, and his books  in combination with reading up on definitions on wikipedia  really offer a lot more understanding than this course. I would recommended to consult anyone to consult a standard text book on finance and the works of Nassim Taleb to spice things up, rather than to take this course. It was not very interesting. The course needs to be more self explanatory, with real world examples, and not dull very confusing and doesn t seem connected or flow I find the professor is hard to understand because he is so slow in making a point.  I have listened to a few lectures and have given up.  I am going to look for another course. Don t waste your time. It s unstructured pile of videos recorded from face to face teaching. No explanations, no order, no structure, nothing. As it was highlighted as free course with certification for MOOC. I haven t received course completion certificate though my course has been fully completed. This issue needs to be addressed as why Coursera is not issuing course completion certification as promised  during COVID   .. Such a cheating to all the candidate to enroll for any course. This is not acceptable at all.'"
      ]
     },
     "execution_count": 13,
     "metadata": {},
     "output_type": "execute_result"
    }
   ],
   "source": [
    "generateCorpusbyTag(coursereviews, ' ')"
   ]
  },
  {
   "cell_type": "code",
   "execution_count": 9,
   "metadata": {},
   "outputs": [],
   "source": [
    "def getCourseReviewsbyTag():\n",
    "    courses = pd.read_csv(\"Coursera_courses.csv\")\n",
    "    coursedetails = pd.read_csv(\"coursera-course-detail-data.csv\")\n",
    "    coursedetails['course_id'] = coursedetails['Url'].apply(lambda z: z.split('/')[-1]) \n",
    "    courses = courses.merge(coursedetails, how = \"left\", on='course_id')\n",
    "    courses.drop(['Unnamed: 0','Name','Url'], inplace=True, axis = 1)\n",
    "    \n",
    "    \n",
    "    coursereviews = pd.read_csv(\"Coursera_reviews.csv\")   \n",
    "    return coursereviews.merge(courses, how='left', on='course_id')[['Tags','course_id','reviews']]"
   ]
  },
  {
   "cell_type": "code",
   "execution_count": 10,
   "metadata": {},
   "outputs": [
    {
     "data": {
      "text/html": [
       "<div>\n",
       "<style scoped>\n",
       "    .dataframe tbody tr th:only-of-type {\n",
       "        vertical-align: middle;\n",
       "    }\n",
       "\n",
       "    .dataframe tbody tr th {\n",
       "        vertical-align: top;\n",
       "    }\n",
       "\n",
       "    .dataframe thead th {\n",
       "        text-align: right;\n",
       "    }\n",
       "</style>\n",
       "<table border=\"1\" class=\"dataframe\">\n",
       "  <thead>\n",
       "    <tr style=\"text-align: right;\">\n",
       "      <th></th>\n",
       "      <th>Tags</th>\n",
       "      <th>course_id</th>\n",
       "      <th>reviews</th>\n",
       "    </tr>\n",
       "  </thead>\n",
       "  <tbody>\n",
       "    <tr>\n",
       "      <td>0</td>\n",
       "      <td>['Information Technology', 'Networking']</td>\n",
       "      <td>google-cbrs-cpi-training</td>\n",
       "      <td>Pretty dry, but I was able to pass with just t...</td>\n",
       "    </tr>\n",
       "    <tr>\n",
       "      <td>1</td>\n",
       "      <td>['Information Technology', 'Networking']</td>\n",
       "      <td>google-cbrs-cpi-training</td>\n",
       "      <td>would be a better experience if the video and ...</td>\n",
       "    </tr>\n",
       "    <tr>\n",
       "      <td>2</td>\n",
       "      <td>['Information Technology', 'Networking']</td>\n",
       "      <td>google-cbrs-cpi-training</td>\n",
       "      <td>Information was perfect! The program itself wa...</td>\n",
       "    </tr>\n",
       "    <tr>\n",
       "      <td>3</td>\n",
       "      <td>['Information Technology', 'Networking']</td>\n",
       "      <td>google-cbrs-cpi-training</td>\n",
       "      <td>A few grammatical mistakes on test made me do ...</td>\n",
       "    </tr>\n",
       "    <tr>\n",
       "      <td>4</td>\n",
       "      <td>['Information Technology', 'Networking']</td>\n",
       "      <td>google-cbrs-cpi-training</td>\n",
       "      <td>Excellent course and the training provided was...</td>\n",
       "    </tr>\n",
       "    <tr>\n",
       "      <td>...</td>\n",
       "      <td>...</td>\n",
       "      <td>...</td>\n",
       "      <td>...</td>\n",
       "    </tr>\n",
       "    <tr>\n",
       "      <td>1454706</td>\n",
       "      <td>['Information Technology', 'Networking']</td>\n",
       "      <td>computer-networking</td>\n",
       "      <td>g</td>\n",
       "    </tr>\n",
       "    <tr>\n",
       "      <td>1454707</td>\n",
       "      <td>['Information Technology', 'Networking']</td>\n",
       "      <td>computer-networking</td>\n",
       "      <td>.</td>\n",
       "    </tr>\n",
       "    <tr>\n",
       "      <td>1454708</td>\n",
       "      <td>['Information Technology', 'Networking']</td>\n",
       "      <td>computer-networking</td>\n",
       "      <td>.</td>\n",
       "    </tr>\n",
       "    <tr>\n",
       "      <td>1454709</td>\n",
       "      <td>['Information Technology', 'Networking']</td>\n",
       "      <td>computer-networking</td>\n",
       "      <td>.</td>\n",
       "    </tr>\n",
       "    <tr>\n",
       "      <td>1454710</td>\n",
       "      <td>['Information Technology', 'Networking']</td>\n",
       "      <td>computer-networking</td>\n",
       "      <td>G</td>\n",
       "    </tr>\n",
       "  </tbody>\n",
       "</table>\n",
       "<p>1454711 rows × 3 columns</p>\n",
       "</div>"
      ],
      "text/plain": [
       "                                             Tags                 course_id  \\\n",
       "0        ['Information Technology', 'Networking']  google-cbrs-cpi-training   \n",
       "1        ['Information Technology', 'Networking']  google-cbrs-cpi-training   \n",
       "2        ['Information Technology', 'Networking']  google-cbrs-cpi-training   \n",
       "3        ['Information Technology', 'Networking']  google-cbrs-cpi-training   \n",
       "4        ['Information Technology', 'Networking']  google-cbrs-cpi-training   \n",
       "...                                           ...                       ...   \n",
       "1454706  ['Information Technology', 'Networking']       computer-networking   \n",
       "1454707  ['Information Technology', 'Networking']       computer-networking   \n",
       "1454708  ['Information Technology', 'Networking']       computer-networking   \n",
       "1454709  ['Information Technology', 'Networking']       computer-networking   \n",
       "1454710  ['Information Technology', 'Networking']       computer-networking   \n",
       "\n",
       "                                                   reviews  \n",
       "0        Pretty dry, but I was able to pass with just t...  \n",
       "1        would be a better experience if the video and ...  \n",
       "2        Information was perfect! The program itself wa...  \n",
       "3        A few grammatical mistakes on test made me do ...  \n",
       "4        Excellent course and the training provided was...  \n",
       "...                                                    ...  \n",
       "1454706                                                  g  \n",
       "1454707                                                  .  \n",
       "1454708                                                  .  \n",
       "1454709                                                  .  \n",
       "1454710                                                  G  \n",
       "\n",
       "[1454711 rows x 3 columns]"
      ]
     },
     "execution_count": 10,
     "metadata": {},
     "output_type": "execute_result"
    }
   ],
   "source": [
    "getCourseReviewsbyTag()"
   ]
  },
  {
   "cell_type": "code",
   "execution_count": 11,
   "metadata": {},
   "outputs": [
    {
     "data": {
      "text/plain": [
       "<matplotlib.axes._subplots.AxesSubplot at 0x27c5f25f688>"
      ]
     },
     "execution_count": 11,
     "metadata": {},
     "output_type": "execute_result"
    },
    {
     "data": {
      "image/png": "[encoded data removed]",
      "text/plain": [
       "<Figure size 432x288 with 2 Axes>"
      ]
     },
     "metadata": {
      "needs_background": "light"
     },
     "output_type": "display_data"
    }
   ],
   "source": [
    "sns.heatmap(getCourseReviewsbyTag().isna())"
   ]
  },
  {
   "cell_type": "code",
   "execution_count": null,
   "metadata": {},
   "outputs": [],
   "source": []
  }
 ],
 "metadata": {
  "kernelspec": {
   "display_name": "Python 3",
   "language": "python",
   "name": "python3"
  },
  "language_info": {
   "codemirror_mode": {
    "name": "ipython",
    "version": 3
   },
   "file_extension": ".py",
   "mimetype": "text/x-python",
   "name": "python",
   "nbconvert_exporter": "python",
   "pygments_lexer": "ipython3",
   "version": "3.7.4"
  }
 },
 "nbformat": 4,
 "nbformat_minor": 2
}
